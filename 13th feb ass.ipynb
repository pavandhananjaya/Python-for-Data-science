{
 "cells": [
  {
   "cell_type": "markdown",
   "id": "611c2b25-b398-43c8-881e-c9587dd4f037",
   "metadata": {},
   "source": [
    "### Q1. Explain why we have to use the Exception class while creating a Custom Exception.\n",
    "Note: Here Exception class refers to the base class for all the exceptions."
   ]
  },
  {
   "cell_type": "markdown",
   "id": "5b3b02bd-e57d-46d8-83e0-c1b31394f222",
   "metadata": {},
   "source": [
    "The Exception class is the base class for all exceptions in Python, so using it as the base class ensures that the new exception inherits all the essential properties and methods that are required for an exception to work properly.\n",
    "\n",
    "Inheriting from the Exception class provides several benefits, such as:\n",
    "\n",
    "It provides access to the standard exception handling mechanisms in Python, such as try/except blocks. It allows the new exception to be caught by more general exception handlers, such as catching all exceptions with except Exception. It ensures that the new exception class is compatible with other parts of the Python standard library that expect exceptions to be derived from the Exception class. By using the Exception class as the base class for custom exceptions, it helps ensure that the new exception class will be well-behaved and work as expected within the Python exception handling system. Additionally, using the Exception class provides a consistent and well-established approach for creating custom exceptions in Python."
   ]
  },
  {
   "cell_type": "markdown",
   "id": "9ac9daed-da0b-424c-afb0-ac931eeaac34",
   "metadata": {},
   "source": [
    "### Q2. Write a python program to print Python Exception Hierarchy."
   ]
  },
  {
   "cell_type": "code",
   "execution_count": 1,
   "id": "941e1074-2eeb-4266-9de8-e76376f6614c",
   "metadata": {},
   "outputs": [
    {
     "name": "stdout",
     "output_type": "stream",
     "text": [
      "ArithmeticError\n",
      "AssertionError\n",
      "AttributeError\n",
      "BlockingIOError\n",
      "BrokenPipeError\n",
      "BufferError\n",
      "ChildProcessError\n",
      "ConnectionAbortedError\n",
      "ConnectionError\n",
      "ConnectionRefusedError\n",
      "ConnectionResetError\n",
      "EOFError\n",
      "EnvironmentError\n",
      "FileExistsError\n",
      "FileNotFoundError\n",
      "FloatingPointError\n",
      "IOError\n",
      "ImportError\n",
      "IndentationError\n",
      "IndexError\n",
      "InterruptedError\n",
      "IsADirectoryError\n",
      "KeyError\n",
      "LookupError\n",
      "MemoryError\n",
      "ModuleNotFoundError\n",
      "NameError\n",
      "NotADirectoryError\n",
      "NotImplementedError\n",
      "OSError\n",
      "OverflowError\n",
      "PermissionError\n",
      "ProcessLookupError\n",
      "RecursionError\n",
      "ReferenceError\n",
      "RuntimeError\n",
      "SyntaxError\n",
      "SystemError\n",
      "TabError\n",
      "TimeoutError\n",
      "TypeError\n",
      "UnboundLocalError\n",
      "UnicodeDecodeError\n",
      "UnicodeEncodeError\n",
      "UnicodeError\n",
      "UnicodeTranslateError\n",
      "ValueError\n",
      "ZeroDivisionError\n"
     ]
    }
   ],
   "source": [
    "for i in dir(__builtins__):\n",
    "    if i.endswith(\"Error\"):\n",
    "        print(i)"
   ]
  },
  {
   "cell_type": "markdown",
   "id": "9ad7b547-9f25-428b-891f-cd2865166c2e",
   "metadata": {},
   "source": [
    "### Q3. What errors are defined in the ArithmeticError class? Explain any two with an example."
   ]
  },
  {
   "cell_type": "markdown",
   "id": "f9128c37-93e3-435f-a138-90981652712f",
   "metadata": {},
   "source": [
    "The ArithmeticError class in Python defines errors that occur during arithmetic operations. \n",
    "\n",
    "The following errors are defined in the ArithmeticError class:\n",
    "\n",
    "OverflowError: Raised when a calculation exceeds the maximum limit for a numeric type.\n",
    "\n",
    "ZeroDivisionError: Raised when attempting to divide a number by zero."
   ]
  },
  {
   "cell_type": "code",
   "execution_count": 5,
   "id": "d42aeacc-af32-4fd8-844f-72251da1fd26",
   "metadata": {},
   "outputs": [
    {
     "ename": "ZeroDivisionError",
     "evalue": "division by zero",
     "output_type": "error",
     "traceback": [
      "\u001b[0;31m---------------------------------------------------------------------------\u001b[0m",
      "\u001b[0;31mZeroDivisionError\u001b[0m                         Traceback (most recent call last)",
      "Cell \u001b[0;32mIn[5], line 3\u001b[0m\n\u001b[1;32m      1\u001b[0m a \u001b[38;5;241m=\u001b[39m \u001b[38;5;241m10\u001b[39m\n\u001b[1;32m      2\u001b[0m b \u001b[38;5;241m=\u001b[39m \u001b[38;5;241m0\u001b[39m\n\u001b[0;32m----> 3\u001b[0m c \u001b[38;5;241m=\u001b[39m \u001b[43ma\u001b[49m\u001b[38;5;241;43m/\u001b[39;49m\u001b[43mb\u001b[49m\n",
      "\u001b[0;31mZeroDivisionError\u001b[0m: division by zero"
     ]
    }
   ],
   "source": [
    "a = 10\n",
    "b = 0\n",
    "c = a/b"
   ]
  },
  {
   "cell_type": "code",
   "execution_count": 14,
   "id": "631b91d5-7554-447c-a56f-17365c9c6778",
   "metadata": {},
   "outputs": [],
   "source": [
    "a = 99999999999999999999\n",
    "b = 99999999999999999999\n",
    "c = a / b"
   ]
  },
  {
   "cell_type": "markdown",
   "id": "e1e96476-5c93-4480-a623-cbe86762989c",
   "metadata": {},
   "source": [
    "OverflowError is raised"
   ]
  },
  {
   "cell_type": "markdown",
   "id": "f452d10d-530a-457d-bb63-f1eb6323f941",
   "metadata": {},
   "source": [
    "### Q4. Why LookupError class is used? Explain with an example KeyError and IndexError."
   ]
  },
  {
   "cell_type": "markdown",
   "id": "e8a3baa5-2c4d-4fe8-b028-d2d317e75fc0",
   "metadata": {},
   "source": [
    "Answer: The LookupError class is a built-in exception class in Python that represents errors that occur when a key or index is not found. It is the base class for several more specific lookup exception classes.\n",
    "\n",
    "Here are two specific lookup errors that are derived from the LookupError class: KeyError and IndexError."
   ]
  },
  {
   "cell_type": "code",
   "execution_count": 16,
   "id": "ee129dc8-9ca9-49b2-a1a5-897be616b64b",
   "metadata": {},
   "outputs": [
    {
     "ename": "KeyError",
     "evalue": "'d'",
     "output_type": "error",
     "traceback": [
      "\u001b[0;31m---------------------------------------------------------------------------\u001b[0m",
      "\u001b[0;31mKeyError\u001b[0m                                  Traceback (most recent call last)",
      "Cell \u001b[0;32mIn[16], line 2\u001b[0m\n\u001b[1;32m      1\u001b[0m d \u001b[38;5;241m=\u001b[39m {\u001b[38;5;124m\"\u001b[39m\u001b[38;5;124ma\u001b[39m\u001b[38;5;124m\"\u001b[39m: \u001b[38;5;241m1\u001b[39m, \u001b[38;5;124m\"\u001b[39m\u001b[38;5;124mb\u001b[39m\u001b[38;5;124m\"\u001b[39m: \u001b[38;5;241m2\u001b[39m, \u001b[38;5;124m\"\u001b[39m\u001b[38;5;124mc\u001b[39m\u001b[38;5;124m\"\u001b[39m: \u001b[38;5;241m3\u001b[39m}\n\u001b[0;32m----> 2\u001b[0m \u001b[38;5;28mprint\u001b[39m(\u001b[43md\u001b[49m\u001b[43m[\u001b[49m\u001b[38;5;124;43m\"\u001b[39;49m\u001b[38;5;124;43md\u001b[39;49m\u001b[38;5;124;43m\"\u001b[39;49m\u001b[43m]\u001b[49m)\n",
      "\u001b[0;31mKeyError\u001b[0m: 'd'"
     ]
    }
   ],
   "source": [
    "d = {\"a\": 1, \"b\": 2, \"c\": 3}\n",
    "print(d[\"d\"])"
   ]
  },
  {
   "cell_type": "code",
   "execution_count": 17,
   "id": "f345d56e-218d-402d-9495-58e6c199adcb",
   "metadata": {},
   "outputs": [
    {
     "ename": "IndexError",
     "evalue": "list index out of range",
     "output_type": "error",
     "traceback": [
      "\u001b[0;31m---------------------------------------------------------------------------\u001b[0m",
      "\u001b[0;31mIndexError\u001b[0m                                Traceback (most recent call last)",
      "Cell \u001b[0;32mIn[17], line 2\u001b[0m\n\u001b[1;32m      1\u001b[0m l \u001b[38;5;241m=\u001b[39m [\u001b[38;5;241m1\u001b[39m, \u001b[38;5;241m2\u001b[39m, \u001b[38;5;241m3\u001b[39m]\n\u001b[0;32m----> 2\u001b[0m \u001b[38;5;28mprint\u001b[39m(\u001b[43ml\u001b[49m\u001b[43m[\u001b[49m\u001b[38;5;241;43m3\u001b[39;49m\u001b[43m]\u001b[49m)\n",
      "\u001b[0;31mIndexError\u001b[0m: list index out of range"
     ]
    }
   ],
   "source": [
    "l = [1, 2, 3]\n",
    "print(l[3])"
   ]
  },
  {
   "cell_type": "markdown",
   "id": "fae53759-e1e5-4cf2-acdf-e020fc411aec",
   "metadata": {},
   "source": [
    "### Q5. Explain ImportError. What is ModuleNotFoundError?"
   ]
  },
  {
   "cell_type": "markdown",
   "id": "ed196dc4-6da7-4ec5-84b8-ba9d8e8ac11f",
   "metadata": {},
   "source": [
    "Answer: ImportError is a built-in exception class in Python that is raised when an imported module, package, or object cannot be found or accessed. This can happen if the module or package name is misspelled, if the module or package is not installed, or if there is an error in the module or package code.\n",
    "\n",
    "ModuleNotFoundError is a more specific exception that is derived from the ImportError class. It is raised when an imported module or package cannot be found or accessed. ModuleNotFoundError was introduced in Python 3.6 to provide a more specific error message for failed imports."
   ]
  },
  {
   "cell_type": "code",
   "execution_count": 18,
   "id": "06bcca53-1be1-4964-b864-21558ae81a58",
   "metadata": {},
   "outputs": [
    {
     "ename": "ModuleNotFoundError",
     "evalue": "No module named 'my_module'",
     "output_type": "error",
     "traceback": [
      "\u001b[0;31m---------------------------------------------------------------------------\u001b[0m",
      "\u001b[0;31mModuleNotFoundError\u001b[0m                       Traceback (most recent call last)",
      "Cell \u001b[0;32mIn[18], line 1\u001b[0m\n\u001b[0;32m----> 1\u001b[0m \u001b[38;5;28;01mimport\u001b[39;00m \u001b[38;5;21;01mmy_module\u001b[39;00m  \n\u001b[1;32m      3\u001b[0m \u001b[38;5;28mprint\u001b[39m(\u001b[38;5;124m\"\u001b[39m\u001b[38;5;124mHello, Pavan!\u001b[39m\u001b[38;5;124m\"\u001b[39m)\n",
      "\u001b[0;31mModuleNotFoundError\u001b[0m: No module named 'my_module'"
     ]
    }
   ],
   "source": [
    "import my_module  \n",
    "\n",
    "print(\"Hello, Pavan!\")"
   ]
  },
  {
   "cell_type": "markdown",
   "id": "9873e80f-5ac5-4171-a47b-f2a8a4f09350",
   "metadata": {},
   "source": [
    "### Q6. List down some best practices for exception handling in python."
   ]
  },
  {
   "cell_type": "code",
   "execution_count": null,
   "id": "d32482a4-b91c-48fd-8972-32642f757c37",
   "metadata": {},
   "outputs": [],
   "source": []
  }
 ],
 "metadata": {
  "kernelspec": {
   "display_name": "Python 3 (ipykernel)",
   "language": "python",
   "name": "python3"
  },
  "language_info": {
   "codemirror_mode": {
    "name": "ipython",
    "version": 3
   },
   "file_extension": ".py",
   "mimetype": "text/x-python",
   "name": "python",
   "nbconvert_exporter": "python",
   "pygments_lexer": "ipython3",
   "version": "3.10.8"
  }
 },
 "nbformat": 4,
 "nbformat_minor": 5
}
