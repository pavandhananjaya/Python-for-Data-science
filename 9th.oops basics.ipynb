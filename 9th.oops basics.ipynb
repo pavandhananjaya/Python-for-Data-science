{
 "cells": [
  {
   "cell_type": "markdown",
   "id": "d599b0a9-e584-4228-9da0-abd2746dd0f8",
   "metadata": {},
   "source": [
    "## Q1. Explain Class and Object with respect to Object-Oriented Programming. Give a suitable example. "
   ]
  },
  {
   "cell_type": "markdown",
   "id": "040c8566-14dd-4811-a55c-36af90ccaa91",
   "metadata": {},
   "source": [
    "Answer : A Class is like an object constructor, or a \"blueprint\" for creating objects.An object is called an instance of a class and it contains data and behavior.\n",
    "\n",
    "Example:suppose Bike is a class then we can create objects like bike1 , bike2 , etc from the class"
   ]
  },
  {
   "cell_type": "code",
   "execution_count": 2,
   "id": "1286b3a3-9361-450d-9270-b03de15b0fc3",
   "metadata": {},
   "outputs": [],
   "source": [
    "class Bike():\n",
    "    def __init__(self, model,gear,release_year):\n",
    "        self.model=model\n",
    "        self.gear=gear\n",
    "        self.release_year=release_year\n",
    "    def Bike_details(self):\n",
    "        return self.model,self.gear,self.release_year"
   ]
  },
  {
   "cell_type": "code",
   "execution_count": 5,
   "id": "a2e6807d-8ddc-4130-88bf-3bb5ff896b8b",
   "metadata": {},
   "outputs": [],
   "source": [
    "bike1=Bike(\"mt15\",\"yes\",2022)"
   ]
  },
  {
   "cell_type": "code",
   "execution_count": 6,
   "id": "e4c98e0e-ce07-4342-95e8-77471a7e74e9",
   "metadata": {},
   "outputs": [
    {
     "data": {
      "text/plain": [
       "'mt15'"
      ]
     },
     "execution_count": 6,
     "metadata": {},
     "output_type": "execute_result"
    }
   ],
   "source": [
    "bike1.model"
   ]
  },
  {
   "cell_type": "code",
   "execution_count": 8,
   "id": "dcf9eebf-582b-4787-8635-7ac3ac320091",
   "metadata": {},
   "outputs": [
    {
     "data": {
      "text/plain": [
       "'yes'"
      ]
     },
     "execution_count": 8,
     "metadata": {},
     "output_type": "execute_result"
    }
   ],
   "source": [
    "bike1.gear"
   ]
  },
  {
   "cell_type": "code",
   "execution_count": 9,
   "id": "bb0c7a6e-fcdf-4d57-86ec-cadf464fcdba",
   "metadata": {},
   "outputs": [
    {
     "data": {
      "text/plain": [
       "2022"
      ]
     },
     "execution_count": 9,
     "metadata": {},
     "output_type": "execute_result"
    }
   ],
   "source": [
    "bike1.release_year"
   ]
  },
  {
   "cell_type": "markdown",
   "id": "e6453dec-89aa-4096-8aec-5b38389b41c8",
   "metadata": {},
   "source": [
    "## Q2. Name the four pillars of OOPs."
   ]
  },
  {
   "cell_type": "markdown",
   "id": "d0927d02-52e7-4d82-985b-3c6c2a9ee67c",
   "metadata": {},
   "source": [
    "Answer : When creating objects using classes, there are four(4) basic principles for writing clean and concise code. These principles are called the four pillars of object-oriented programming (OOP). These four pillars are Inheritance, Polymorphism, Encapsulation and Abstraction.\n",
    "\n",
    "Abstraction: The process of hiding complex implementation details and exposing only necessary information to the user.\n",
    "\n",
    "Encapsulation: The practice of combining data and functions that operate on that data within a single unit or object.\n",
    "\n",
    "Inheritance: The mechanism of acquiring properties and behaviors from an existing class, to create a new class.\n",
    "\n",
    "Polymorphism: The ability of an object to take on many forms. In Python, polymorphism allows you to write generic code that can work with objects of different types and classes."
   ]
  },
  {
   "cell_type": "markdown",
   "id": "2053ce72-17f1-482a-a067-dc5ca6e236a0",
   "metadata": {},
   "source": [
    "## Q3. Explain why the init() function is used. Give a suitable example."
   ]
  },
  {
   "cell_type": "markdown",
   "id": "a4d69fa5-a4c8-4d25-a684-692888b090c2",
   "metadata": {},
   "source": [
    "Answer : The init method in Python is a special method that is automatically called when an object of a class is created. It is used to initialize the attributes of an object, and is also known as a constructor."
   ]
  },
  {
   "cell_type": "code",
   "execution_count": 10,
   "id": "a2d332c4-11a7-4fc3-9bb9-aa0dfbadbac3",
   "metadata": {},
   "outputs": [],
   "source": [
    "class Student:\n",
    "    def __init__(self, name, age):\n",
    "        self.name = name\n",
    "        self.age = age\n",
    "    \n",
    "    def greeting(self):\n",
    "        print(\"Hello, my name is\", self.name)"
   ]
  },
  {
   "cell_type": "code",
   "execution_count": 11,
   "id": "26168792-1bcb-49f7-8af4-a349e8c2afe3",
   "metadata": {},
   "outputs": [
    {
     "name": "stdout",
     "output_type": "stream",
     "text": [
      "Jayasree\n",
      "27\n",
      "Hello, my name is Jayasree\n"
     ]
    }
   ],
   "source": [
    "s1 = Student(\"Jayasree\", 27)\n",
    "print(s1.name) \n",
    "print(s1.age) \n",
    "s1.greeting() "
   ]
  },
  {
   "cell_type": "markdown",
   "id": "b555916d-d74b-40ab-aadb-380f14d2cda0",
   "metadata": {},
   "source": [
    "## Q4. Why self is used in OOPs?"
   ]
  },
  {
   "cell_type": "markdown",
   "id": "fd710031-b383-481d-ac15-a30a501c0a27",
   "metadata": {},
   "source": [
    "Answer: In Python, the keyword \"self\" is used as a reference to the instance of the class within a method. It is used to access the attributes and methods of the class within the method."
   ]
  },
  {
   "cell_type": "markdown",
   "id": "4c13009b-35b7-4244-a54e-bb72ebf5e9e5",
   "metadata": {},
   "source": [
    "## Q5. What is inheritance? Give an example for each type of inheritance."
   ]
  },
  {
   "cell_type": "markdown",
   "id": "2a4e285f-e02d-40aa-9aa6-906f1e02c47b",
   "metadata": {},
   "source": [
    "Answer: Inheritance is a process of obtaining properties and characteristics(variables and methods) of another class. In this hierarchical order, the class which inherits another class is called subclass or child class, and the other class is the parent class.\n",
    "\n",
    "In Python, there are 3 types of inheritance:\n",
    "\n",
    "Single inheritance: When a class inherits properties and behaviors from a single parent class, it is known as single inheritance.\n",
    "\n",
    "Multiple Inheritance: A derived class inherits from multiple base classes.\n",
    "\n",
    "Multi-level Inheritance: A derived class inherits from a base class, which itself inherits from another base class."
   ]
  },
  {
   "cell_type": "code",
   "execution_count": null,
   "id": "21148773-a953-4ea6-9fee-147e954c4fe1",
   "metadata": {},
   "outputs": [],
   "source": []
  }
 ],
 "metadata": {
  "kernelspec": {
   "display_name": "Python 3 (ipykernel)",
   "language": "python",
   "name": "python3"
  },
  "language_info": {
   "codemirror_mode": {
    "name": "ipython",
    "version": 3
   },
   "file_extension": ".py",
   "mimetype": "text/x-python",
   "name": "python",
   "nbconvert_exporter": "python",
   "pygments_lexer": "ipython3",
   "version": "3.10.8"
  }
 },
 "nbformat": 4,
 "nbformat_minor": 5
}
