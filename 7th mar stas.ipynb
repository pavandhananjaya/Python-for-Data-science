{
 "cells": [
  {
   "cell_type": "markdown",
   "id": "ca95b6d5-ed9a-40bd-b1dc-24f3dcb51a33",
   "metadata": {},
   "source": [
    "## Q1. What are the three measures of central tendency?"
   ]
  },
  {
   "cell_type": "markdown",
   "id": "6459176e-59ed-4083-b70c-bf841f4e0a34",
   "metadata": {},
   "source": [
    "    Mean: The mean is the sum of all values in a dataset divided by the total number of values in the dataset. It is also known as the average and is commonly used to describe the central tendency of normally distributed data.\n",
    "\n",
    "    Median: The median is the middle value in a dataset when the values are arranged in order from lowest to highest. It is less sensitive to outliers than the mean and is often used for skewed data.\n",
    "\n",
    "    Mode: The mode is the value that occurs most frequently in a dataset. It is useful for describing the most common value in a dataset, but may not exist or may not be unique in some cases."
   ]
  },
  {
   "cell_type": "markdown",
   "id": "0170eb00-c19c-47c7-8ace-4a64a65d679f",
   "metadata": {},
   "source": [
    "## Q2. What is the difference between the mean, median, and mode? How are they used to measure the central tendency of a dataset?"
   ]
  },
  {
   "cell_type": "markdown",
   "id": "286941bc-ec1b-44d1-9e49-54bdc657007e",
   "metadata": {},
   "source": [
    "The mean, median, and mode are all measures of central tendency, which describe the central or typical value of a dataset.They differ in the way they are calculated and the situations in which they are most useful."
   ]
  },
  {
   "cell_type": "markdown",
   "id": "2ee8ee0b-44a7-4976-bde0-be23afc5d104",
   "metadata": {},
   "source": [
    "The mean is the sum of all values in a dataset divided by the total number of values in the dataset. It is the most commonly used measure of central tendency and is useful for normally distributed data. However, it can be sensitive to outliers, which can significantly skew the mean.\n",
    "\n",
    "The median is the middle value in a dataset when the values are arranged in order from lowest to highest. It is less sensitive to outliers than the mean and is useful for skewed data. The median is calculated by finding the middle value or the average of the two middle values if there is an even number of values in the dataset.\n",
    "\n",
    "The mode is the value that occurs most frequently in a dataset. It is useful for describing the most common value in a dataset and is often used in categorical data analysis. However, the mode may not exist or may not be unique in some cases."
   ]
  },
  {
   "cell_type": "markdown",
   "id": "65b3ef7a-057f-4583-907f-ce18d85568ab",
   "metadata": {},
   "source": [
    "## Q3. Measure the three measures of central tendency for the given height data:\n",
    "## [178,177,176,177,178.2,178,175,179,180,175,178.9,176.2,177,172.5,178,176.5]"
   ]
  },
  {
   "cell_type": "code",
   "execution_count": null,
   "id": "67c799b4-b05f-428b-8644-a19a7f2168f4",
   "metadata": {},
   "outputs": [],
   "source": [
    "Mean :\n",
    "    \n",
    "    (178 + 177 + 176 + 177 + 178.2 + 178 + 175 + 179 + 180 + 175 + 178.9 + 176.2 + 177 + 172.5 + 178 + 176.5) / 16\n",
    "    \n",
    "    the mean height is approximately 177.01.   \n"
   ]
  },
  {
   "cell_type": "code",
   "execution_count": null,
   "id": "6ac5e192-fab9-468b-8fcc-22ec25fad549",
   "metadata": {},
   "outputs": [],
   "source": [
    "median: \n",
    "\n",
    "    [172.5, 175, 175, 176, 176, 176.2, 176.5, 177, 177, 178, 178, 178, 178.2, 178.9, 179, 180]\n",
    "    As there are 16 values in the dataset, the median is the average of the 8th and 9th value, which are both 177.\n",
    "    \n",
    "    Therefore, the median height is 177"
   ]
  },
  {
   "cell_type": "code",
   "execution_count": null,
   "id": "ab9caded-5576-4691-8e64-793087bc7720",
   "metadata": {},
   "outputs": [],
   "source": [
    "Mode:\n",
    "\n",
    "    To find the mode, we need to determine which value occurs most frequently in the dataset. In this case, both 178 and 177 occur 3 times, which makes them the \n",
    "    mode(s) of the dataset.\n",
    "    Therefore, the mode height is either 177 or 178."
   ]
  },
  {
   "cell_type": "code",
   "execution_count": null,
   "id": "01409a55-970c-47eb-be01-2dd2eb1b5753",
   "metadata": {},
   "outputs": [],
   "source": [
    "Mean height: approximately 176.9\n",
    "Median height: 177\n",
    "Mode height: either 177 or 178"
   ]
  },
  {
   "cell_type": "markdown",
   "id": "c72a4ebc-b2ff-49b8-8d0a-798d1cd0a5d3",
   "metadata": {},
   "source": [
    "## Q4. Find the standard deviation for the given data:\n",
    "## [178,177,176,177,178.2,178,175,179,180,175,178.9,176.2,177,172.5,178,176.5]"
   ]
  },
  {
   "cell_type": "code",
   "execution_count": 19,
   "id": "1cbcd0d4-befd-432c-a7ba-a9f027dbb6cf",
   "metadata": {},
   "outputs": [],
   "source": [
    "mean = (178+177+176+177+178.2+178+175+179+180+175+178.9+176.2+177+172.5+178+176.5)/16 = 177.01875 "
   ]
  },
  {
   "cell_type": "markdown",
   "id": "af499e65-d952-41c7-bebf-2ca9815da76b",
   "metadata": {},
   "source": [
    "Subtract the mean from each data point.\n",
    "\n",
    "[178- 177.01875 , 177- 177.01875 , 176- 177.01875 , 177- 177.01875 , 178.2- 177.01875 , 178- 177.01875 , 175- 177.01875 , 179- 177.01875 , 180- 177.01875 , 175-177.01875 , 178.9- 177.01875 , 176.2- 177.01875 , 177- 177.01875 , 172.5- 177.01875 , 178- 177.01875 , 176.5- 177.01875 ]"
   ]
  },
  {
   "cell_type": "markdown",
   "id": "c2e44473-16e4-4bca-8045-43bc40e82358",
   "metadata": {},
   "source": [
    "Simplifying:\n",
    "\n",
    "[1.025, 0.025, -0.975, 0.025, 1.225, 1.025, -1.975, 2.025, 3.025, -1.975, 1.925, -0.775, 0.025, -4.475, 1.025, -0.475]"
   ]
  },
  {
   "cell_type": "markdown",
   "id": "7a66346b-be37-4c29-abb2-f5567f149cb6",
   "metadata": {},
   "source": [
    " Square each difference.\n",
    "\n",
    "[1.025^2, 0.025^2, (-0.975)^2, 0.025^2, 1.225^2, 1.025^2, (-1.975)^2, 2.025^2, 3.025^2, (-1.975)^2, 1.925^2, (-0.775)^2, 0.025^2, (-4.475)^2, 1.025^2, (-0.475)^2]"
   ]
  },
  {
   "cell_type": "markdown",
   "id": "4e5b16d4-5b12-43a6-a8a2-7427b228c989",
   "metadata": {},
   "source": [
    "Simplifying:\n",
    "\n",
    "[1.050625, 0.000625, 0.950625, 0.000625, 1.500625, 1.050625, 3.900625, 4.100625, 9.150625, 3.900625, 3.705625, 0.600625, 0.000625, 19.980625, 1.050625, 0.225625]"
   ]
  },
  {
   "cell_type": "markdown",
   "id": "e0731a61-5e66-4b80-be7e-da9cfd5e6d51",
   "metadata": {},
   "source": [
    "mean of squared differences = (1.050625+0.000625+0.950625+0.000625+1.500625+1.050625+3.900625+4.100625+9.150625+3.900625+3.705625+0.600625+0.000625+19.980625+1.050625+0.225625)/16 = 3.198125 "
   ]
  },
  {
   "cell_type": "code",
   "execution_count": null,
   "id": "6c919063-8e11-40c9-bea9-192c66a47486",
   "metadata": {},
   "outputs": [],
   "source": [
    "standard deviation = sqrt( 3.198125 ) =1.78833022678\n",
    "\n",
    "the standard deviation for the given data is 1.834."
   ]
  },
  {
   "cell_type": "markdown",
   "id": "a497495e-5bca-4ebc-953d-1a8b9acbaf8b",
   "metadata": {},
   "source": [
    "## Q5. How are measures of dispersion such as range, variance, and standard deviation used to describe the spread of a dataset? Provide an example."
   ]
  },
  {
   "cell_type": "markdown",
   "id": "031ffd5f-8b95-4577-a194-bd9c10a00849",
   "metadata": {},
   "source": [
    "Measures of dispersion, such as range, variance, and standard deviation, are used to describe the spread of a dataset. These measures indicate how much the data points in a dataset vary or deviate from the central tendency, such as the mean or median. A larger dispersion indicates that the data points are more spread out, while a smaller dispersion indicates that the data points are closer together.\n",
    "\n",
    "example,\n",
    "\n",
    "let's consider two datasets:\n",
    "\n",
    "Dataset A: [10, 11, 9, 10, 11, 10]\n",
    "\n",
    "Dataset B: [5, 20, 5, 20, 5, 20]\n",
    "\n",
    "The mean of both datasets is 10, which indicates they have the same central tendency. However, the range, variance, and standard deviation for the two datasets differ, indicating that they have different levels of dispersion.\n",
    "\n",
    "Dataset A has a range of 2 (11-9), a variance of 0.17, and a standard deviation of 0.41. This indicates that the data points in Dataset A are clustered tightly around the mean of 10, with little variation.\n",
    "\n",
    "Dataset B, on the other hand, has a range of 15 (20-5), a variance of 50, and a standard deviation of 7.07. This indicates that the data points in Dataset B are spread out over a wider range, with more variation than in Dataset A."
   ]
  },
  {
   "cell_type": "markdown",
   "id": "e0cf8701-cdb6-4436-8e96-fe98bd7867fc",
   "metadata": {},
   "source": [
    "## Q6. What is a Venn diagram?"
   ]
  },
  {
   "cell_type": "markdown",
   "id": "c7d8dbd3-5da5-4845-a3eb-ee13787522dd",
   "metadata": {},
   "source": [
    "A Venn diagram is a visual representation of the relationships between different sets of data. It consists of overlapping circles or other shapes that represent the sets, with the overlapping regions representing the intersection of those sets. The circles or shapes may be labeled with the name of the set or some other identifier.\n",
    "\n",
    "Venn diagrams are often used in mathematics, logic, statistics, and other fields to illustrate concepts such as set theory, logic, and probability. They can help to visually clarify complex relationships between different sets of data and make it easier to understand the relationships between those sets."
   ]
  },
  {
   "cell_type": "markdown",
   "id": "ec9e4133-4262-4198-991f-b9c6d80ab6df",
   "metadata": {},
   "source": [
    "## Q7. For the two given sets A = (2,3,4,5,6,7) & B = (0,2,6,8,10). Find:\n",
    "## (i) A ⋂ B\n",
    "## (ii) A ⋃ B"
   ]
  },
  {
   "cell_type": "markdown",
   "id": "d7009c30-d07d-4827-806a-7c55455ed473",
   "metadata": {},
   "source": [
    " A ⋂ B = {2,6}.\n",
    "    \n",
    " A ⋃ B = {0,2,3,4,5,6,7,8,10}."
   ]
  },
  {
   "cell_type": "markdown",
   "id": "a7ca5e82-7c95-4610-83bc-2f9b895631e4",
   "metadata": {},
   "source": [
    "## Q8. What do you understand about skewness in data?"
   ]
  },
  {
   "cell_type": "markdown",
   "id": "8c7c2989-4477-493d-9942-47e12ee6fffd",
   "metadata": {},
   "source": [
    "Skewness in data refers to the degree of asymmetry in a distribution. A distribution is considered to be skewed if it is not symmetrical, that is, it does not have equal numbers of data points on both sides of the central tendency (usually the mean or median).\n",
    "\n",
    "In a skewed distribution, one tail is longer than the other tail, and the peak of the distribution is shifted towards one end. The direction of skewness is determined by the direction of the longer tail. If the tail is longer on the right side of the distribution, it is said to be positively skewed, while if it is longer on the left side, it is said to be negatively skewed.\n",
    "\n",
    "Skewness can have important implications for data analysis and interpretation. In particular, it can affect the choice of statistical methods and measures of central tendency and dispersion that are appropriate for describing the data. For example, in a positively skewed distribution, the mean is often higher than the median, while in a negatively skewed distribution, the median is often higher than the mean.\n",
    "\n",
    "It is also important to note that skewness can be influenced by outliers or extreme values in the dataset. These values can pull the mean away from the median and create a skewed distribution. Therefore, it is often useful to examine the distribution of the data visually, using tools such as histograms or box plots, to identify any skewness and the extent to which it may be influenced by outliers."
   ]
  },
  {
   "cell_type": "markdown",
   "id": "b1b81889-b752-4773-8c65-d887191c1591",
   "metadata": {},
   "source": [
    "## Q9. If a data is right skewed then what will be the position of median with respect to mean?"
   ]
  },
  {
   "cell_type": "markdown",
   "id": "f4e45f0a-7287-4e9c-ba22-230f34429655",
   "metadata": {},
   "source": [
    "If a data is right skewed, then the median is typically lower than the mean. This is because in a right-skewed distribution, the tail of the distribution is longer on the right side, which means that there are more data points with high values. These high values pull the mean upwards, making it higher than the median.\n",
    "\n",
    "For example, consider a dataset of exam scores where most students score in the range of 60-80, but a few students score very high (e.g. 95-100). This would create a right-skewed distribution where the tail is longer on the right side. In this case, the mean score would be higher than the median score because the few students who scored very high would pull the mean upwards. The median, on the other hand, would be closer to the middle of the range of scores where most students scored (i.e. around 70-75), because it is not affected by the extreme high scores in the same way as the mean."
   ]
  },
  {
   "cell_type": "markdown",
   "id": "fe3ff95c-0692-49fd-b689-2ee673e9b0c2",
   "metadata": {},
   "source": [
    "## Q10. Explain the difference between covariance and correlation. How are these measures used in statistical analysis?"
   ]
  },
  {
   "cell_type": "markdown",
   "id": "c74fab44-bb7f-4da5-ac6d-82cd1115ce16",
   "metadata": {},
   "source": [
    "Covariance is a measure of the extent to which two variables vary together. It is calculated as the average of the product of the deviations of each variable from its mean. A positive covariance indicates that the two variables tend to increase or decrease together, while a negative covariance indicates that they tend to vary in opposite directions. However, covariance does not provide information about the strength or direction of the relationship between the variables.\n",
    "\n",
    "Correlation, on the other hand, measures the strength and direction of the linear relationship between two variables. It ranges from -1 to +1, with values closer to -1 indicating a strong negative correlation, values closer to +1 indicating a strong positive correlation, and values closer to 0 indicating little or no correlation. Correlation is a standardized measure, which means it is not affected by the scale of measurement of the variables and allows for comparison between different datasets.\n",
    "\n",
    "In statistical analysis, both covariance and correlation are used to identify the relationship between two variables in a dataset. However, correlation is considered a more useful measure than covariance because it not only identifies the strength of the relationship between the variables, but also the direction (positive or negative). Correlation is also used to identify the relationship between more than two variables using techniques such as multiple correlation and regression analysis."
   ]
  },
  {
   "cell_type": "markdown",
   "id": "51d68e29-d3db-4e25-abca-fd7bd53ba22e",
   "metadata": {},
   "source": [
    "## Q11. What is the formula for calculating the sample mean? Provide an example calculation for a dataset."
   ]
  },
  {
   "cell_type": "markdown",
   "id": "ef47c906-f0c2-4c5d-aa96-4db03f2da922",
   "metadata": {},
   "source": [
    "The formula for calculating the sample mean is:\n",
    "\n",
    "mean = (sum of all values in the dataset) / (number of values in the dataset)\n",
    "\n",
    "Here's an example calculation:\n",
    "\n",
    "Suppose we have the following dataset of exam scores for a class of 10 students:\n",
    "\n",
    "{85, 78, 90, 92, 87, 82, 75, 91, 88, 84}\n",
    "\n",
    "To calculate the sample mean, we first add up all the values in the dataset:\n",
    "\n",
    "85 + 78 + 90 + 92 + 87 + 82 + 75 + 91 + 88 + 84 = 852\n",
    "\n",
    "Next, we divide the sum by the number of values in the dataset (which is 10 in this case):\n",
    "\n",
    "mean = 852 / 10 = 85.2\n",
    "\n",
    "Therefore, the sample mean for this dataset is 85.2."
   ]
  },
  {
   "cell_type": "markdown",
   "id": "c4a974e9-5f6f-4e54-859e-965a1d1beef0",
   "metadata": {},
   "source": [
    "## Q12. For a normal distribution data what is the relationship between its measure of central tendency?"
   ]
  },
  {
   "cell_type": "markdown",
   "id": "2f443406-997d-4782-ba12-66d82974a4cf",
   "metadata": {},
   "source": [
    "For a normal distribution, the measures of central tendency (mean, median, and mode) are all equal to each other. This means that the distribution is symmetrical around the center point, and there is an equal number of data points on either side of the center point.\n",
    "\n",
    "In a normal distribution, the mean is often used as the primary measure of central tendency because it takes into account all the values in the dataset. The median and mode are also useful measures, especially when dealing with skewed distributions or outliers. However, in a normal distribution, the mean, median, and mode are all equal and provide the same information about the central tendency of the data.\n",
    "\n",
    "example, consider a dataset of heights for a population that follows a normal distribution. If the mean height is 5'8\", the median and mode will also be 5'8\". This indicates that the distribution of heights is symmetrical and the most common height is also the average height of the population."
   ]
  },
  {
   "cell_type": "markdown",
   "id": "5a2add68-b81a-493a-b773-fbf6fbff69b5",
   "metadata": {},
   "source": [
    "## Q13. How is covariance different from correlation?"
   ]
  },
  {
   "cell_type": "markdown",
   "id": "1ae75711-2ef1-4272-a068-f04d0547b1a7",
   "metadata": {},
   "source": [
    "    Definition:\n",
    "    Covariance measures how two variables vary together, and it is a measure of the degree to which two variables are linearly associated with each other. It is calculated by taking the product of the deviations of two variables from their respective means and then finding the average of these products.\n",
    "\n",
    "Correlation, on the other hand, measures the degree of the linear relationship between two variables. It is calculated by standardizing the covariance between two variables by dividing it by the product of the standard deviations of the variables.\n",
    "\n",
    "    Range of Values:\n",
    "    Covariance can take any value between negative infinity and positive infinity. A positive value indicates a positive relationship between the variables, while a negative value indicates a negative relationship.\n",
    "\n",
    "Correlation, on the other hand, ranges from -1 to +1, with a value of +1 indicating a perfect positive relationship, a value of -1 indicating a perfect negative relationship, and a value of 0 indicating no relationship.\n",
    "\n",
    "    Units:\n",
    "    Covariance is expressed in the units of the two variables, and thus it is not standardized. The value of covariance can change when the scale of one or both variables is changed.\n",
    "\n",
    "Correlation, on the other hand, is unitless and standardized, which means that it is not affected by the scale of measurement of the variables.\n",
    "\n",
    "    Interpretation:\n",
    "    Covariance does not provide a measure of the strength of the relationship between the variables. A high positive covariance between two variables indicates that they tend to increase or decrease together, but it does not indicate the degree of this relationship.\n",
    "\n",
    "Correlation, on the other hand, provides a measure of both the strength and direction of the relationship between the variables. A high positive correlation indicates a strong positive relationship, while a high negative correlation indicates a strong negative relationship."
   ]
  },
  {
   "cell_type": "markdown",
   "id": "71f3d27a-5531-47a8-ba3a-2ec1f5ce2dd6",
   "metadata": {},
   "source": [
    "## Q14. How do outliers affect measures of central tendency and dispersion? Provide an example."
   ]
  },
  {
   "cell_type": "markdown",
   "id": "3399460e-b85f-409d-8efa-7bdf357c25c7",
   "metadata": {},
   "source": [
    "Measures of Central Tendency:\n",
    "The presence of outliers can significantly affect measures of central tendency, such as the mean and the median. If a dataset contains outliers, the mean may be pulled in the direction of the outliers, making it an unreliable measure of central tendency. The median is less affected by outliers, as it represents the value that is in the middle of the dataset, regardless of extreme values.\n",
    "\n",
    "For example, consider a dataset of salaries of employees in a company. Most employees earn between $30,000 and $80,000, but there are a few outliers who earn more than $1,000,000 per year. In this case, the mean salary would be significantly higher than the median salary, because the outliers are pulling the mean upward.\n",
    "\n",
    "Measures of Dispersion:\n",
    "Outliers can also affect measures of dispersion, such as the range, variance, and standard deviation. If a dataset contains outliers, the range will be larger than it would be without the outliers. The variance and standard deviation will also be affected by outliers, as these measures are based on the deviation of each data point from the mean.\n",
    "\n",
    "For example, consider a dataset of test scores for a class of students. Most students scored between 60 and 90, but there is one outlier who scored 25. The presence of this outlier will significantly increase the range of the dataset. The variance and standard deviation will also be affected, as they are based on the deviation of each score from the mean. The outlier score of 25 will increase the deviation from the mean, making these measures larger than they would be without the outlier."
   ]
  },
  {
   "cell_type": "code",
   "execution_count": null,
   "id": "f083cbb2-fb8c-4b37-91d4-f67d0b0151f1",
   "metadata": {},
   "outputs": [],
   "source": []
  }
 ],
 "metadata": {
  "kernelspec": {
   "display_name": "Python 3 (ipykernel)",
   "language": "python",
   "name": "python3"
  },
  "language_info": {
   "codemirror_mode": {
    "name": "ipython",
    "version": 3
   },
   "file_extension": ".py",
   "mimetype": "text/x-python",
   "name": "python",
   "nbconvert_exporter": "python",
   "pygments_lexer": "ipython3",
   "version": "3.10.8"
  }
 },
 "nbformat": 4,
 "nbformat_minor": 5
}
