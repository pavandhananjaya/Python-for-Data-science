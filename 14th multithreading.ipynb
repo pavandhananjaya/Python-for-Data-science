{
 "cells": [
  {
   "cell_type": "markdown",
   "id": "f63acaec-2a59-4f91-a1a8-e9aa55c4e450",
   "metadata": {},
   "source": [
    "### Q1. what is multithreading in python? Why is it used? Name the module used to handle threads in python"
   ]
  },
  {
   "cell_type": "markdown",
   "id": "77e4826f-90b3-4e6a-9443-b9a22ee4a17f",
   "metadata": {},
   "source": [
    "program to run simultaneously, making it possible to perform multiple tasks at the same time.\n",
    "\n",
    "Multithreading is used in Python to improve the performance of a program that performs multiple tasks. Instead of waiting for a single task to complete before starting the next one, multiple tasks can be performed concurrently, reducing the overall time it takes to complete them.\n",
    "\n",
    "The primary advantage of multithreading is that it can significantly reduce the time required for a program to complete a set of tasks. It can also improve the responsiveness of a program by allowing it to continue processing user input while performing background tasks.\n",
    "\n",
    "The \"threading\" module is used to handle threads in Python. It provides a simple way to create and manage threads, allowing a program to perform multiple tasks simultaneously. The \"threading\" module can be used to create new threads, start them, and control their execution, including synchronization and communication between threads."
   ]
  },
  {
   "cell_type": "markdown",
   "id": "7b55ed86-ba0b-4d01-b687-9a0c626484cc",
   "metadata": {},
   "source": [
    "### Q2. Why threading module used? Write the use of the following functions"
   ]
  },
  {
   "cell_type": "markdown",
   "id": "c87cc4a0-70c1-4bbc-ab97-d198062f95c5",
   "metadata": {},
   "source": [
    "activeCount()\n",
    "currentThread()\n",
    "enumerate()\n",
    "Answer:The threading module in Python is used to create and manage threads. It provides a high-level interface for creating new threads, starting them, and controlling their execution. The threading module is particularly useful for implementing multi-threaded programs where multiple tasks need to be performed simultaneously.\n",
    "\n",
    "Here are the use cases of the following functions in the threading module:\n",
    "\n",
    "activeCount(): This function returns the number of thread objects that are currently active and running. It can be used to monitor the number of active threads in a program and to ensure that the number of threads is within the desired range.\n",
    "\n",
    "currentThread(): This function returns a reference to the current thread object that is executing the Python code. It can be used to obtain information about the current thread, such as its name or thread ID, and to manipulate the thread object, such as setting its attributes or joining it with other threads.\n",
    "\n",
    "enumerate(): This function returns a list of all the thread objects that are currently active and running in the program. It can be used to monitor the status of all threads in a program and to perform operations on them, such as waiting for them to complete or terminating them. The enumerate() function can also be used to obtain information about each thread, such as its name or thread ID."
   ]
  },
  {
   "cell_type": "markdown",
   "id": "3c3c030b-10d6-4144-87b6-cc97e76ecfb2",
   "metadata": {},
   "source": [
    "### Q3. Explain the following functions"
   ]
  },
  {
   "cell_type": "markdown",
   "id": "381939ea-4dec-4633-899a-02c2a2cfde85",
   "metadata": {},
   "source": [
    "run()\n",
    "start()\n",
    "join()\n",
    "isAlive()\n",
    "Answer: The following are the explanations of the functions in the threading module:\n",
    "\n",
    "run(): This method is the entry point for the thread's activity. It is typically overridden in a subclass and contains the code that the thread will execute when started. When a new thread is created using the Thread class, the run() method is called implicitly when the thread is started using the start() method.\n",
    "\n",
    "start(): This method starts the thread's activity. It creates a new thread of execution and calls the run() method to start the thread's activity. The start() method should only be called once per thread object. If the start() method is called multiple times on the same thread object, a RuntimeError will be raised.\n",
    "\n",
    "join(): This method blocks the calling thread until the thread whose join() method is called completes or until the optional timeout period has passed. This method can be used to wait for a thread to complete its activity before continuing with the execution of the main program. The join() method is typically called after the start() method has been called on a thread object.\n",
    "\n",
    "isAlive(): This method returns a boolean value indicating whether the thread is currently active and running. It can be used to check the status of a thread and determine if it has completed its activity or is still running. The isAlive() method is typically called after the start() method has been called on a thread object. If the isAlive() method returns False, it means that the thread has completed its activity and has terminated."
   ]
  },
  {
   "cell_type": "markdown",
   "id": "bc956eb7-7265-4ff9-9812-1831d850e4f2",
   "metadata": {},
   "source": [
    "### Q4. Write a python program to create two threads. Thread one must print the list of squares and thread two must print the list of cubes"
   ]
  },
  {
   "cell_type": "code",
   "execution_count": 4,
   "id": "56fdf802-fafb-402b-9294-dbfb1f9bccb1",
   "metadata": {},
   "outputs": [
    {
     "name": "stdout",
     "output_type": "stream",
     "text": [
      "1 squared is 1\n",
      "2 squared is 4\n",
      "3 squared is 9\n",
      "4 squared is 16\n",
      "5 squared is 25\n",
      "6 squared is 36\n",
      "7 squared is 49\n",
      "8 squared is 64\n",
      "9 squared is 81\n",
      "10 squared is 100\n",
      "1 cubed is 1\n",
      "2 cubed is 8\n",
      "3 cubed is 27\n",
      "4 cubed is 64\n",
      "5 cubed is 125\n",
      "6 cubed is 216\n",
      "7 cubed is 343\n",
      "8 cubed is 512\n",
      "9 cubed is 729\n",
      "10 cubed is 1000\n"
     ]
    }
   ],
   "source": [
    "import threading\n",
    "\n",
    "def print_squares():\n",
    "    for i in range(1, 11):\n",
    "        print(f\"{i} squared is {i**2}\")\n",
    "        \n",
    "def print_cubes():\n",
    "    for i in range(1, 11):\n",
    "        print(f\"{i} cubed is {i**3}\")\n",
    "\n",
    "t1 = threading.Thread(target=print_squares)\n",
    "t2 = threading.Thread(target=print_cubes)\n",
    "\n",
    "t1.start()\n",
    "t2.start()\n",
    "\n",
    "t1.join()\n",
    "t2.join()"
   ]
  },
  {
   "cell_type": "markdown",
   "id": "ec63a0f4-a179-4d1b-89f8-11674f0177e9",
   "metadata": {},
   "source": [
    "### Q5. State advantages and disadvantages of multithreading"
   ]
  },
  {
   "cell_type": "raw",
   "id": "f9a46c13-6190-4f93-833b-e10df570dbe7",
   "metadata": {},
   "source": [
    "Answer: Advantages:\n",
    "\n",
    "Improved Performance\n",
    "Efficient use of resources\n",
    "Responsiveness\n",
    "Improved scalability\n",
    "Disadvantages:\n",
    "\n",
    "Increased complexity\n",
    "Difficulty in programming\n",
    "Resource competition\n",
    "Overhead"
   ]
  },
  {
   "cell_type": "markdown",
   "id": "6f6e752c-d20b-4b19-a68e-ebf219638627",
   "metadata": {},
   "source": [
    "### Q6. Explain deadlocks and race conditions."
   ]
  },
  {
   "cell_type": "markdown",
   "id": "5f4dff0e-6eda-48cc-a218-8eff8e969464",
   "metadata": {},
   "source": [
    "Answer: Deadlocks: A deadlock occurs when two or more threads are blocked, each waiting for the other to release a resource that it holds. For example, Thread 1 might hold resource A and need resource B to proceed, while Thread 2 might hold resource B and need resource A to proceed. If neither thread releases its resource, both threads will be blocked, and the program will be stuck in a deadlock. Deadlocks are difficult to detect and resolve, and can cause the program to hang or crash.\n",
    "\n",
    "Race Conditions: A race condition occurs when two or more threads access a shared resource or variable simultaneously, and the final result depends on the order of execution of the threads. For example, Thread 1 and Thread 2 might both read the value of a shared variable, increment it, and write the new value back to the variable. If the two threads execute simultaneously, the final value of the variable will depend on the order in which the threads execute their instructions. This can lead to unpredictable and incorrect results, and can be difficult to debug."
   ]
  },
  {
   "cell_type": "code",
   "execution_count": null,
   "id": "6433b125-346a-46ab-acf9-316c9eecff03",
   "metadata": {},
   "outputs": [],
   "source": []
  }
 ],
 "metadata": {
  "kernelspec": {
   "display_name": "Python 3 (ipykernel)",
   "language": "python",
   "name": "python3"
  },
  "language_info": {
   "codemirror_mode": {
    "name": "ipython",
    "version": 3
   },
   "file_extension": ".py",
   "mimetype": "text/x-python",
   "name": "python",
   "nbconvert_exporter": "python",
   "pygments_lexer": "ipython3",
   "version": "3.10.8"
  }
 },
 "nbformat": 4,
 "nbformat_minor": 5
}
