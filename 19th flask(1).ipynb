{
 "cells": [
  {
   "cell_type": "code",
   "execution_count": null,
   "id": "9968eca8-4f91-4589-a49c-28f5c188e9f5",
   "metadata": {},
   "outputs": [],
   "source": []
  },
  {
   "cell_type": "markdown",
   "id": "d7b6b8f5-0de7-4385-854c-0caccb45a61d",
   "metadata": {},
   "source": [
    "### Q1. What is Flask Framework? What are the advantages of Flask Framework?"
   ]
  },
  {
   "cell_type": "markdown",
   "id": "ad905509-97ee-40ee-b371-28f2dedabe26",
   "metadata": {},
   "source": [
    "Flask is a lightweight web framework written in Python. It is designed to make it easy to build web applications quickly and with minimal code. Flask is based on the Werkzeug toolkit and the Jinja2 template engine, both of which are also written in Python.\n",
    "\n",
    "Advantages of Flask Framework include:\n",
    "\n",
    "    Simplicity: Flask is very easy to learn and use, even for beginners. Its API is intuitive and straightforward, making it easy to build web applications quickly and with minimal code.\n",
    "\n",
    "    Flexibility: Flask is a micro-framework, which means it can be used for a wide range of web development tasks, from building small, simple applications to large, complex web services.\n",
    "\n",
    "    Lightweight: Flask has a very small footprint and doesn't require many external dependencies. This makes it easy to install and deploy, even on low-powered devices.\n",
    "\n",
    "    Extensibility: Flask is highly extensible, with a large ecosystem of extensions and plugins that can be used to add functionality to your application. This allows you to easily add features like authentication, database integration, and more.\n",
    "\n",
    "    Testability: Flask is very easy to test, thanks to its lightweight design and clear separation of concerns. This makes it easy to write and run automated tests to ensure the quality of your code."
   ]
  },
  {
   "cell_type": "markdown",
   "id": "478b5cb7-4b6d-4658-8a1d-e0055847562f",
   "metadata": {},
   "source": [
    "### Q2. Create a simple Flask application to display ‘Hello World!!’. Attach the screenshot of the output in Jupyter Notebook."
   ]
  },
  {
   "cell_type": "code",
   "execution_count": null,
   "id": "d8bd33e5-92b4-4fb3-bcee-29bbb52577d1",
   "metadata": {},
   "outputs": [],
   "source": [
    "from flask import Flask\n",
    "\n",
    "app = Flask(__name__)\n",
    "\n",
    "@app.route('/')\n",
    "def hello_world():\n",
    "    return 'Hello World!'\n",
    "\n",
    "if __name__==\"__main__\":\n",
    "    app.run(host=\"0.0.0.0\")"
   ]
  },
  {
   "cell_type": "code",
   "execution_count": null,
   "id": "afa1645c-1367-4651-b029-daac4259ea9e",
   "metadata": {},
   "outputs": [],
   "source": [
    "file is in github\n",
    "\n",
    "https://github.com/pavandhananjaya/Python-for-Data-science/blob/main/ASS.PNG"
   ]
  },
  {
   "cell_type": "markdown",
   "id": "55fb3ab3-5a58-49b2-b635-dcdbd0bad0dc",
   "metadata": {},
   "source": [
    "### Q3. What is App routing in Flask? Why do we use app routes?"
   ]
  },
  {
   "cell_type": "markdown",
   "id": "c6f7a33b-8a26-4bba-8f95-f60b69132ade",
   "metadata": {},
   "source": [
    "Ans: App routing in Flask is the process of mapping URL endpoints to specific Python functions that generate web page content. In other words, it's the mechanism that Flask uses to determine what code to execute when a user visits a particular URL on a website.\n"
   ]
  },
  {
   "cell_type": "code",
   "execution_count": null,
   "id": "464a30f5-b55e-4d61-9cc7-a63c6b01eba9",
   "metadata": {},
   "outputs": [],
   "source": [
    "from flask import Flask\n",
    "\n",
    "app = Flask(__name__)\n",
    "\n",
    "@app.route('/')\n",
    "def index():\n",
    "    return 'Hello, world!'\n",
    "\n",
    "@app.route('/about')\n",
    "def about():\n",
    "    return 'About us'\n",
    "\n",
    "if __name__==\"__main__\":\n",
    "    app.run(host=\"0.0.0.0\")\n"
   ]
  },
  {
   "cell_type": "markdown",
   "id": "fe90298d-968b-4f2d-9535-be648f86bbda",
   "metadata": {},
   "source": [
    "\n",
    " URL (/) and another for the /about URL. The corresponding Python functions return simple text responses.\n",
    " \n",
    " We use app routes in Flask to define the structure and behavior of our web application. By defining routes, we can provide a way for users to access different parts of our website, and we can specify the content that should be displayed for each URL endpoint. This allows us to create a navigation structure for our site and provide a more intuitive and user-friendly experience for our users.\n",
    "\n",
    "Routes also allow us to separate the concerns of our web application into discrete modules or functions. By mapping each URL endpoint to a specific function, we can organize our code in a way that makes it easier to understand and maintain. We can also reuse code across different parts of our website by defining routes that call the same underlying functions."
   ]
  },
  {
   "cell_type": "markdown",
   "id": "d3f229ce-ad78-46fa-88ee-8c52ea5e2319",
   "metadata": {},
   "source": [
    "## Q4. Create a “/welcome” route to display the welcome message “Welcome to ABC Corporation” and a \n",
    "## “/” route to show the following details:\n",
    "## Company Name: ABC Corporation\n",
    "## Location: India\n",
    "## Contact Detail: 999-999-9999"
   ]
  },
  {
   "cell_type": "code",
   "execution_count": null,
   "id": "4294fe8c-4d92-49a8-9690-0cffca3e228c",
   "metadata": {},
   "outputs": [],
   "source": [
    "from flask import Flask\n",
    "\n",
    "app = Flask(__name__)\n",
    "\n",
    "@app.route('/welcome')\n",
    "def welcome():\n",
    "    return 'Welcome to ABC Corporation'\n",
    "\n",
    "@app.route('/')\n",
    "def index():\n",
    "    company_name = 'ABC Corporation'\n",
    "    location = 'India'\n",
    "    contact_detail = '999-999-9999'\n",
    "    return f'Company Name: {company_name}<br>Location: {location}<br>Contact Detail: {contact_detail}'\n",
    "\n",
    "if __name__==\"__main__\":\n",
    "    app.run(host=\"0.0.0.0\")\n"
   ]
  },
  {
   "cell_type": "code",
   "execution_count": null,
   "id": "518bd3ce-ba14-471a-bbb2-8c6f1df11a8f",
   "metadata": {},
   "outputs": [],
   "source": [
    "file is in github\n",
    "\n",
    "https://github.com/pavandhananjaya/Python-for-Data-science/blob/main/ass2.PNG\n",
    "\n",
    "https://github.com/pavandhananjaya/Python-for-Data-science/blob/main/ass1.PNG"
   ]
  },
  {
   "cell_type": "markdown",
   "id": "0660c6e9-f0da-4b0d-8cef-d85884eef1d0",
   "metadata": {},
   "source": [
    "## Q5. What function is used in Flask for URL Building? Write a Python code to demonstrate the working of the url_for() function."
   ]
  },
  {
   "cell_type": "markdown",
   "id": "c3042b0a-0ceb-4110-b68c-92568ee77bc6",
   "metadata": {},
   "source": [
    "In Flask, the url_for() function is used for URL building. This function generates a URL for a given endpoint, based on the endpoint's name and any arguments that are provided."
   ]
  },
  {
   "cell_type": "code",
   "execution_count": null,
   "id": "94352781-7c7a-4e6a-820f-693f75667e4d",
   "metadata": {},
   "outputs": [],
   "source": [
    "## Example\n",
    "\n",
    "from flask import Flask, url_for\n",
    "\n",
    "app = Flask(__name__)\n",
    "\n",
    "@app.route('/')\n",
    "def index():\n",
    "    return f'The URL for the about page is pavan {url_for(\"about\")}'\n",
    "\n",
    "@app.route('/about')\n",
    "def about():\n",
    "    return 'This is the about page'\n",
    "\n",
    "if __name__==\"__main__\":\n",
    "    app.run(host=\"0.0.0.0\")\n"
   ]
  },
  {
   "cell_type": "code",
   "execution_count": null,
   "id": "d921538e-c1c4-484e-94a9-2488959a5579",
   "metadata": {},
   "outputs": [],
   "source": [
    "file is in github\n",
    "\n",
    "https://github.com/pavandhananjaya/Python-for-Data-science/blob/main/Capture112.PNG\n",
    "\n",
    "https://github.com/pavandhananjaya/Python-for-Data-science/blob/main/Capture21.PNG"
   ]
  },
  {
   "cell_type": "code",
   "execution_count": null,
   "id": "6696867f-8997-432a-a684-98964546739b",
   "metadata": {},
   "outputs": [],
   "source": []
  },
  {
   "cell_type": "code",
   "execution_count": null,
   "id": "8f574dfa-20c9-46ad-b146-073d594a121c",
   "metadata": {},
   "outputs": [],
   "source": []
  },
  {
   "cell_type": "code",
   "execution_count": null,
   "id": "f6dcccaa-8e82-44de-a7a9-d0f6bc747667",
   "metadata": {},
   "outputs": [],
   "source": []
  }
 ],
 "metadata": {
  "kernelspec": {
   "display_name": "Python 3 (ipykernel)",
   "language": "python",
   "name": "python3"
  },
  "language_info": {
   "codemirror_mode": {
    "name": "ipython",
    "version": 3
   },
   "file_extension": ".py",
   "mimetype": "text/x-python",
   "name": "python",
   "nbconvert_exporter": "python",
   "pygments_lexer": "ipython3",
   "version": "3.10.8"
  }
 },
 "nbformat": 4,
 "nbformat_minor": 5
}
