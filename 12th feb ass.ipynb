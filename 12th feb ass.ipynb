{
 "cells": [
  {
   "cell_type": "markdown",
   "id": "a3e50284-b791-4841-9954-0f302004cdb2",
   "metadata": {},
   "source": [
    "### Q1. What is an Exception in pthon? Write the difference between Exceptions and syntax errors"
   ]
  },
  {
   "cell_type": "markdown",
   "id": "c46d87c8-8986-44ae-8a2f-3ca88c21e839",
   "metadata": {},
   "source": [
    "Answer: In Python, an exception is an event that occurs during the execution of a program that disrupts the normal flow of instructions. When an exception occurs, the program stops executing the current code block and jumps to a pre-defined exception handling block. Exception handling allows the program to gracefully recover from errors and continue running, rather than crashing or stopping unexpectedly.\n",
    "\n",
    "Syntax errors, on the other hand, are errors that occur when the Python interpreter encounters a problem with the way the code is written. Syntax errors are detected by the interpreter before the program is executed and are caused by mistakes such as misspelled keywords, incorrect indentation, or invalid syntax.\n",
    "\n",
    "The key difference between exceptions and syntax errors is that syntax errors are caught by the interpreter during the parsing stage, while exceptions occur during the execution of the program. Syntax errors prevent the program from executing at all, while exceptions can be handled by the program to allow it to recover and continue running. In short, exceptions are runtime errors, while syntax errors are compile-time errors."
   ]
  },
  {
   "cell_type": "markdown",
   "id": "f9fbb89a-849d-4b25-bd49-306a09fe4a62",
   "metadata": {},
   "source": [
    "### Q2. What happens when an exception is not handled? Explain with an example"
   ]
  },
  {
   "cell_type": "markdown",
   "id": "e0211330-4ecc-45b6-adf4-17891c57b504",
   "metadata": {},
   "source": [
    "Answer : When an exception is not handled, the program will terminate abruptly with an error message displayed on the screen. This can be problematic for both the end-users and the developers as it provides no indication of what went wrong and how it can be fixed."
   ]
  },
  {
   "cell_type": "code",
   "execution_count": 3,
   "id": "ab101204-6ec0-4021-80bb-1070849ba509",
   "metadata": {},
   "outputs": [
    {
     "ename": "ZeroDivisionError",
     "evalue": "division by zero",
     "output_type": "error",
     "traceback": [
      "\u001b[0;31m---------------------------------------------------------------------------\u001b[0m",
      "\u001b[0;31mZeroDivisionError\u001b[0m                         Traceback (most recent call last)",
      "Cell \u001b[0;32mIn[3], line 4\u001b[0m\n\u001b[1;32m      1\u001b[0m \u001b[38;5;28;01mdef\u001b[39;00m \u001b[38;5;21mdivide\u001b[39m(a, b):\n\u001b[1;32m      2\u001b[0m     \u001b[38;5;28;01mreturn\u001b[39;00m a \u001b[38;5;241m/\u001b[39m b\n\u001b[0;32m----> 4\u001b[0m result \u001b[38;5;241m=\u001b[39m \u001b[43mdivide\u001b[49m\u001b[43m(\u001b[49m\u001b[38;5;241;43m5\u001b[39;49m\u001b[43m,\u001b[49m\u001b[43m \u001b[49m\u001b[38;5;241;43m0\u001b[39;49m\u001b[43m)\u001b[49m\n\u001b[1;32m      5\u001b[0m \u001b[38;5;28mprint\u001b[39m(result)\n",
      "Cell \u001b[0;32mIn[3], line 2\u001b[0m, in \u001b[0;36mdivide\u001b[0;34m(a, b)\u001b[0m\n\u001b[1;32m      1\u001b[0m \u001b[38;5;28;01mdef\u001b[39;00m \u001b[38;5;21mdivide\u001b[39m(a, b):\n\u001b[0;32m----> 2\u001b[0m     \u001b[38;5;28;01mreturn\u001b[39;00m \u001b[43ma\u001b[49m\u001b[43m \u001b[49m\u001b[38;5;241;43m/\u001b[39;49m\u001b[43m \u001b[49m\u001b[43mb\u001b[49m\n",
      "\u001b[0;31mZeroDivisionError\u001b[0m: division by zero"
     ]
    }
   ],
   "source": [
    "def divide(a, b):\n",
    "    return a / b\n",
    "\n",
    "result = divide(5, 0)\n",
    "print(result)"
   ]
  },
  {
   "cell_type": "code",
   "execution_count": 4,
   "id": "6937fd8c-7b72-4033-a402-45f97c2fbec8",
   "metadata": {},
   "outputs": [
    {
     "name": "stdout",
     "output_type": "stream",
     "text": [
      "Division by zero is not correct division by zero\n"
     ]
    }
   ],
   "source": [
    "try:\n",
    "    a=10\n",
    "    a/0\n",
    "except Exception as e:\n",
    "    print(\"Division by zero is not correct\",e)"
   ]
  },
  {
   "cell_type": "markdown",
   "id": "8a26f6eb-3d5a-4a93-a96c-a73c7f6f6aff",
   "metadata": {},
   "source": [
    "### Q3. Which Python statements are used to catch and handle exceptions? Explain with example"
   ]
  },
  {
   "cell_type": "markdown",
   "id": "e255d7ba-2142-4841-814d-c834529a8578",
   "metadata": {},
   "source": [
    "Python provides several statements to catch and handle exceptions, which allows programmers to handle errors that may occur during the execution of their code. These statements help in controlling the flow of the program and making it more robust.\n",
    "\n",
    "The two main statements used for handling exceptions in Python are \"try\" and \"except\"."
   ]
  },
  {
   "cell_type": "raw",
   "id": "3bcfa9e7-50ea-4667-90bd-c7f8c2c6ba2c",
   "metadata": {},
   "source": [
    "try:\n",
    "    # code that may raise an exception\n",
    "except ExceptionType:\n",
    "    # code to handle the exception"
   ]
  },
  {
   "cell_type": "markdown",
   "id": "f40376fc-a2ee-422d-b8b9-5737ad46c5cb",
   "metadata": {},
   "source": [
    "Example for try"
   ]
  },
  {
   "cell_type": "code",
   "execution_count": 9,
   "id": "52e5fcec-493f-40de-a0c3-9be6c0cffdba",
   "metadata": {},
   "outputs": [
    {
     "name": "stdout",
     "output_type": "stream",
     "text": [
      "Cannot divide by zero\n"
     ]
    }
   ],
   "source": [
    "\n",
    "try:\n",
    "    a = 10 / 0\n",
    "except ZeroDivisionError:\n",
    "    print(\"Cannot divide by zero\")"
   ]
  },
  {
   "cell_type": "markdown",
   "id": "5b0ceaf3-d208-4b73-b8f5-942d6a62be72",
   "metadata": {},
   "source": [
    "Example for except"
   ]
  },
  {
   "cell_type": "code",
   "execution_count": 14,
   "id": "39dc13b5-50b9-46f4-a3b2-894228442a25",
   "metadata": {},
   "outputs": [
    {
     "name": "stdout",
     "output_type": "stream",
     "text": [
      "Index out of range\n"
     ]
    }
   ],
   "source": [
    "try:\n",
    "    a = [1, 2, 3]\n",
    "    print(a[3])\n",
    "    b = 10 / 0\n",
    "except IndexError:\n",
    "    print(\"Index out of range\")\n",
    "except ZeroDivisionError:\n",
    "    print(\"Cannot divide by zero\")"
   ]
  },
  {
   "cell_type": "code",
   "execution_count": 15,
   "id": "605834ae-5514-4695-87dc-0594becfab7b",
   "metadata": {},
   "outputs": [
    {
     "name": "stdout",
     "output_type": "stream",
     "text": [
      "An error occurred\n"
     ]
    }
   ],
   "source": [
    "try:\n",
    "    a = 10 / 0\n",
    "except Exception:\n",
    "    print(\"An error occurred\")"
   ]
  },
  {
   "cell_type": "markdown",
   "id": "fdb3d59c-8630-4ead-8e9b-1ab1aa5f9852",
   "metadata": {},
   "source": [
    "### Q4. Explain with example : (a). try and else (b). Finally (c). raise"
   ]
  },
  {
   "cell_type": "markdown",
   "id": "bac5431a-8151-4c58-b3b2-1a01d05d5bec",
   "metadata": {},
   "source": [
    "(a) try and else:\n",
    "\n",
    "The try and else block is used in Python to catch and handle exceptions. It allows us to write a block of code that may generate an error and handle that error in a more controlled way."
   ]
  },
  {
   "cell_type": "raw",
   "id": "f03cc567-bd68-4b71-90ec-6c02761b382a",
   "metadata": {},
   "source": [
    "syntax:\n",
    "\n",
    "try:\n",
    "# Some code that may raise an exception\n",
    "except:\n",
    "# Code to handle the exception\n",
    "else:\n",
    "# Code to execute if no exception occurs"
   ]
  },
  {
   "cell_type": "code",
   "execution_count": 21,
   "id": "21750d9d-fddf-490e-9c60-f4579603160b",
   "metadata": {},
   "outputs": [
    {
     "name": "stdout",
     "output_type": "stream",
     "text": [
      "Cannot divide by zero\n"
     ]
    }
   ],
   "source": [
    "try:\n",
    "    x = 5 / 0\n",
    "except ZeroDivisionError:\n",
    "    print(\"Cannot divide by zero\")\n",
    "else:\n",
    "    print(\"No exception occurred\")"
   ]
  },
  {
   "cell_type": "markdown",
   "id": "07af8cf0-ac0c-4891-a9cc-ae8d07b912fa",
   "metadata": {},
   "source": [
    "(b) Finally: The finally block is used to execute code regardless of whether an exception occurs or not. This block is executed after the try and except blocks."
   ]
  },
  {
   "cell_type": "raw",
   "id": "a42fe864-e8be-4d3d-9d83-821b7b61debd",
   "metadata": {},
   "source": [
    "syntax:\n",
    "\n",
    "finally:\n",
    "# Code to execute regardless of whether an exception occurs or not"
   ]
  },
  {
   "cell_type": "code",
   "execution_count": 22,
   "id": "bb885706-2fe1-4380-b258-a4468ec2930f",
   "metadata": {},
   "outputs": [
    {
     "name": "stdout",
     "output_type": "stream",
     "text": [
      "Cannot divide by zero\n",
      "This code will always be executed\n"
     ]
    }
   ],
   "source": [
    "try:\n",
    "    x = 5 / 0\n",
    "except ZeroDivisionError:\n",
    "    print(\"Cannot divide by zero\")\n",
    "else:\n",
    "    print(\"No exception occurred\")\n",
    "finally:\n",
    "    print(\"This code will always be executed\")"
   ]
  },
  {
   "cell_type": "markdown",
   "id": "aaf4b411-8b3b-4ffa-b44b-5e618df824af",
   "metadata": {},
   "source": [
    "(c) raise: The raise statement is used to raise an exception manually. This is useful when you want to raise an exception based on some condition in your code. "
   ]
  },
  {
   "cell_type": "raw",
   "id": "d6c9791e-f95a-421f-8d81-cca1fe151fcd",
   "metadata": {},
   "source": [
    "syntax:\n",
    "    \n",
    "    raise Exception(\"Error message\")"
   ]
  },
  {
   "cell_type": "code",
   "execution_count": 41,
   "id": "477e24af-7ca0-447c-b9e4-4359eeed1561",
   "metadata": {},
   "outputs": [
    {
     "ename": "Exception",
     "evalue": "Number must be positive",
     "output_type": "error",
     "traceback": [
      "\u001b[0;31m---------------------------------------------------------------------------\u001b[0m",
      "\u001b[0;31mException\u001b[0m                                 Traceback (most recent call last)",
      "Cell \u001b[0;32mIn[41], line 4\u001b[0m\n\u001b[1;32m      1\u001b[0m x \u001b[38;5;241m=\u001b[39m \u001b[38;5;241m-\u001b[39m\u001b[38;5;241m5\u001b[39m\n\u001b[1;32m      3\u001b[0m \u001b[38;5;28;01mif\u001b[39;00m x \u001b[38;5;241m<\u001b[39m \u001b[38;5;241m0\u001b[39m:\n\u001b[0;32m----> 4\u001b[0m     \u001b[38;5;28;01mraise\u001b[39;00m \u001b[38;5;167;01mException\u001b[39;00m(\u001b[38;5;124m\"\u001b[39m\u001b[38;5;124mNumber must be positive\u001b[39m\u001b[38;5;124m\"\u001b[39m)\n",
      "\u001b[0;31mException\u001b[0m: Number must be positive"
     ]
    }
   ],
   "source": [
    "x = -5\n",
    "\n",
    "if x < 0:\n",
    "    raise Exception(\"Number must be positive\")"
   ]
  },
  {
   "cell_type": "markdown",
   "id": "f3d2f4ee-424c-45ec-88d3-a4fee0509e00",
   "metadata": {},
   "source": [
    "### Q5. What are the custom exceptions in python? Why do we need custom exceptions ? Explain with an example"
   ]
  },
  {
   "cell_type": "markdown",
   "id": "04a1cfef-3cd7-4e70-b13c-743c8aebe9f2",
   "metadata": {},
   "source": [
    "Answer : custom exceptions are user-defined exceptions that are created to handle specific errors in your code. We need custom exceptions because they allow us to provide more detailed error messages and make it easier to debug our code"
   ]
  },
  {
   "cell_type": "code",
   "execution_count": 44,
   "id": "8d895bdf-4715-4bfc-8532-6618a6478e17",
   "metadata": {},
   "outputs": [
    {
     "name": "stdout",
     "output_type": "stream",
     "text": [
      "Error: Number cannot be Pavan\n"
     ]
    }
   ],
   "source": [
    "class InvalidInputError(Exception):\n",
    "    pass\n",
    "\n",
    "def get_square_root(number):\n",
    "    if number < 0:\n",
    "        raise InvalidInputError(\"Number cannot be Pavan\")\n",
    "    return number ** 0.5\n",
    "\n",
    "try:\n",
    "    print(get_square_root(-9))\n",
    "except InvalidInputError as e:\n",
    "    print(\"Error:\", e)\n"
   ]
  },
  {
   "cell_type": "markdown",
   "id": "759271c0-d113-41ec-8fbf-575b6702b17f",
   "metadata": {},
   "source": [
    "### Q6. Create custom exception class. Use this class to handle exception"
   ]
  },
  {
   "cell_type": "code",
   "execution_count": 46,
   "id": "9a53deff-de88-45bc-849a-9e1c06998622",
   "metadata": {},
   "outputs": [
    {
     "name": "stdout",
     "output_type": "stream",
     "text": [
      "An error occurred: Cannot divide by zero or Pavan\n"
     ]
    }
   ],
   "source": [
    "class custom(Exception):\n",
    "    def __init__(self, message):\n",
    "        self.message = message\n",
    "        \n",
    "def divide(a, b):\n",
    "    if b == 0:\n",
    "        raise custom(\"Cannot divide by zero or Pavan\")\n",
    "    return a / b\n",
    "\n",
    "try:\n",
    "    result = divide(10, 0)\n",
    "except custom as e:\n",
    "    print(\"An error occurred:\", e.message)\n",
    "else:\n",
    "    print(\"The result is:\", result)"
   ]
  },
  {
   "cell_type": "code",
   "execution_count": null,
   "id": "4ab80025-9902-4ae3-8dca-c4f6befe0ebc",
   "metadata": {},
   "outputs": [],
   "source": []
  }
 ],
 "metadata": {
  "kernelspec": {
   "display_name": "Python 3 (ipykernel)",
   "language": "python",
   "name": "python3"
  },
  "language_info": {
   "codemirror_mode": {
    "name": "ipython",
    "version": 3
   },
   "file_extension": ".py",
   "mimetype": "text/x-python",
   "name": "python",
   "nbconvert_exporter": "python",
   "pygments_lexer": "ipython3",
   "version": "3.10.8"
  }
 },
 "nbformat": 4,
 "nbformat_minor": 5
}
