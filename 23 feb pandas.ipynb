{
 "cells": [
  {
   "cell_type": "markdown",
   "id": "9681302d-eb43-4efc-82bc-529588e45600",
   "metadata": {},
   "source": [
    "## Q1. Create a Pandas Series that contains the following data: 4, 8, 15, 16, 23, and 42. Then, print the series."
   ]
  },
  {
   "cell_type": "code",
   "execution_count": 1,
   "id": "336e5805-832d-434d-9bcc-a4676220699f",
   "metadata": {},
   "outputs": [
    {
     "name": "stdout",
     "output_type": "stream",
     "text": [
      "0     4\n",
      "1     8\n",
      "2    15\n",
      "3    16\n",
      "4    23\n",
      "5    42\n",
      "dtype: int64\n"
     ]
    }
   ],
   "source": [
    "\n",
    "\n",
    "import pandas as pd\n",
    "series1 = pd.Series([4,8,15,16,23,42])\n",
    "print(series1)\n",
    "\n"
   ]
  },
  {
   "cell_type": "markdown",
   "id": "983fd302-61be-4728-9ec5-82fd417f0c2d",
   "metadata": {},
   "source": [
    "## Q2: Create a variable of list type containing 10 elements in it, and apply pandas.Series function on the variable print it."
   ]
  },
  {
   "cell_type": "code",
   "execution_count": 2,
   "id": "1168708c-a632-4e46-a1e3-8d860d96e4b4",
   "metadata": {},
   "outputs": [
    {
     "name": "stdout",
     "output_type": "stream",
     "text": [
      "[1, 4, 9, 16, 25, 36, 49, 64, 81, 100]\n"
     ]
    }
   ],
   "source": [
    "\n",
    "l2 = [(i+1)**2 for i in range(10)]\n",
    "print(l2)\n"
   ]
  },
  {
   "cell_type": "code",
   "execution_count": 3,
   "id": "1b27fef3-2a7c-4c2d-aee1-515bf098f2b5",
   "metadata": {},
   "outputs": [
    {
     "name": "stdout",
     "output_type": "stream",
     "text": [
      "0      1\n",
      "1      4\n",
      "2      9\n",
      "3     16\n",
      "4     25\n",
      "5     36\n",
      "6     49\n",
      "7     64\n",
      "8     81\n",
      "9    100\n",
      "dtype: int64\n"
     ]
    }
   ],
   "source": [
    "series2 = pd.Series(l2)\n",
    "print(series2)"
   ]
  },
  {
   "cell_type": "markdown",
   "id": "9624b19c-51d2-4dd8-8c59-d5bc02823f43",
   "metadata": {},
   "source": [
    "## Q3: Create a Pandas DataFrame that contains the following data:\n",
    "\n",
    "|Name  |Age  |Gender|\n",
    "|:----:|:---:|:----:|\n",
    "|Alice |25   |Female|\n",
    "|Bob   |30   |Male  |\n",
    "|Claire|27   |Female|\n",
    "\n",
    "## Then Print the DataFrame"
   ]
  },
  {
   "cell_type": "code",
   "execution_count": 10,
   "id": "425ccc60-e3ad-435f-9ea0-6f2a4c74347d",
   "metadata": {},
   "outputs": [],
   "source": [
    "dct3 = {\n",
    "    'Name':['Alice','Bob','Claire'],\n",
    "    'Age':[25,30,27],\n",
    "    'Gender':['Female','Male','Female']\n",
    "}"
   ]
  },
  {
   "cell_type": "code",
   "execution_count": 11,
   "id": "c70693bb-f7ed-455a-85b3-fd2233a002ad",
   "metadata": {},
   "outputs": [
    {
     "data": {
      "text/html": [
       "<div>\n",
       "<style scoped>\n",
       "    .dataframe tbody tr th:only-of-type {\n",
       "        vertical-align: middle;\n",
       "    }\n",
       "\n",
       "    .dataframe tbody tr th {\n",
       "        vertical-align: top;\n",
       "    }\n",
       "\n",
       "    .dataframe thead th {\n",
       "        text-align: right;\n",
       "    }\n",
       "</style>\n",
       "<table border=\"1\" class=\"dataframe\">\n",
       "  <thead>\n",
       "    <tr style=\"text-align: right;\">\n",
       "      <th></th>\n",
       "      <th>Name</th>\n",
       "      <th>Age</th>\n",
       "      <th>Gender</th>\n",
       "    </tr>\n",
       "  </thead>\n",
       "  <tbody>\n",
       "    <tr>\n",
       "      <th>0</th>\n",
       "      <td>Alice</td>\n",
       "      <td>25</td>\n",
       "      <td>Female</td>\n",
       "    </tr>\n",
       "    <tr>\n",
       "      <th>1</th>\n",
       "      <td>Bob</td>\n",
       "      <td>30</td>\n",
       "      <td>Male</td>\n",
       "    </tr>\n",
       "    <tr>\n",
       "      <th>2</th>\n",
       "      <td>Claire</td>\n",
       "      <td>27</td>\n",
       "      <td>Female</td>\n",
       "    </tr>\n",
       "  </tbody>\n",
       "</table>\n",
       "</div>"
      ],
      "text/plain": [
       "     Name  Age  Gender\n",
       "0   Alice   25  Female\n",
       "1     Bob   30    Male\n",
       "2  Claire   27  Female"
      ]
     },
     "execution_count": 11,
     "metadata": {},
     "output_type": "execute_result"
    }
   ],
   "source": [
    "df3 = pd.DataFrame(dct3)\n",
    "df3"
   ]
  },
  {
   "cell_type": "markdown",
   "id": "21bedfc2-8f33-41cb-8fbd-342ea9f933b6",
   "metadata": {},
   "source": [
    "## Q4. What is ‘DataFrame’ in pandas and how is it different from pandas.series? Explain with an example."
   ]
  },
  {
   "cell_type": "markdown",
   "id": "94fa2057-dfdd-4ea9-b91a-faa9113c3972",
   "metadata": {},
   "source": [
    "\n",
    "A DataFrame in pandas is a two-dimensional labeled data structure with columns of potentially different types. It is similar to a spreadsheet or a SQL table, where data is organized in rows and columns. Each column can contain a different type of data, such as numbers, strings, or dates.\n",
    "\n",
    "On the other hand, a pandas Series is a one-dimensional labeled array that can contain data of any type, such as integers, strings, or booleans. It is similar to a column in a DataFrame."
   ]
  },
  {
   "cell_type": "code",
   "execution_count": 12,
   "id": "ee41439e-c201-405f-8d60-74dfdb6208fa",
   "metadata": {},
   "outputs": [
    {
     "data": {
      "text/html": [
       "<div>\n",
       "<style scoped>\n",
       "    .dataframe tbody tr th:only-of-type {\n",
       "        vertical-align: middle;\n",
       "    }\n",
       "\n",
       "    .dataframe tbody tr th {\n",
       "        vertical-align: top;\n",
       "    }\n",
       "\n",
       "    .dataframe thead th {\n",
       "        text-align: right;\n",
       "    }\n",
       "</style>\n",
       "<table border=\"1\" class=\"dataframe\">\n",
       "  <thead>\n",
       "    <tr style=\"text-align: right;\">\n",
       "      <th></th>\n",
       "      <th>emp_id</th>\n",
       "      <th>name</th>\n",
       "      <th>dept</th>\n",
       "      <th>email</th>\n",
       "      <th>favourite_subject</th>\n",
       "    </tr>\n",
       "  </thead>\n",
       "  <tbody>\n",
       "    <tr>\n",
       "      <th>0</th>\n",
       "      <td>100</td>\n",
       "      <td>Utkarsh</td>\n",
       "      <td>ML Engineer</td>\n",
       "      <td>utkarsh@test.com</td>\n",
       "      <td>Calculus</td>\n",
       "    </tr>\n",
       "    <tr>\n",
       "      <th>1</th>\n",
       "      <td>101</td>\n",
       "      <td>Krish</td>\n",
       "      <td>DevOps</td>\n",
       "      <td>krish@test.com</td>\n",
       "      <td>Statistics</td>\n",
       "    </tr>\n",
       "    <tr>\n",
       "      <th>2</th>\n",
       "      <td>102</td>\n",
       "      <td>Aditi</td>\n",
       "      <td>Testing</td>\n",
       "      <td>aditi@test.com</td>\n",
       "      <td>Six Sigma</td>\n",
       "    </tr>\n",
       "  </tbody>\n",
       "</table>\n",
       "</div>"
      ],
      "text/plain": [
       "   emp_id     name         dept             email favourite_subject\n",
       "0     100  Utkarsh  ML Engineer  utkarsh@test.com          Calculus\n",
       "1     101    Krish       DevOps    krish@test.com        Statistics\n",
       "2     102    Aditi      Testing    aditi@test.com         Six Sigma"
      ]
     },
     "execution_count": 12,
     "metadata": {},
     "output_type": "execute_result"
    }
   ],
   "source": [
    "dct4 = {\n",
    "    'emp_id':[100,101,102],\n",
    "    'name':['Utkarsh','Krish','Aditi'],\n",
    "    'dept':['ML Engineer','DevOps','Testing'],\n",
    "    'email':['utkarsh@test.com','krish@test.com','aditi@test.com'],\n",
    "    'favourite_subject':['Calculus','Statistics','Six Sigma']\n",
    "}\n",
    "\n",
    "df4 = pd.DataFrame(dct4)\n",
    "df4"
   ]
  },
  {
   "cell_type": "code",
   "execution_count": 13,
   "id": "3ad472a1-194e-48eb-88fd-5efe48541baf",
   "metadata": {},
   "outputs": [
    {
     "data": {
      "text/plain": [
       "pandas.core.frame.DataFrame"
      ]
     },
     "execution_count": 13,
     "metadata": {},
     "output_type": "execute_result"
    }
   ],
   "source": [
    "type(df4)"
   ]
  },
  {
   "cell_type": "code",
   "execution_count": 14,
   "id": "0d5f654d-a83a-4436-99d9-c606445e0972",
   "metadata": {},
   "outputs": [
    {
     "name": "stdout",
     "output_type": "stream",
     "text": [
      "0    ML Engineer\n",
      "1         DevOps\n",
      "2        Testing\n",
      "Name: dept, dtype: object\n"
     ]
    }
   ],
   "source": [
    "series4 = df4['dept']\n",
    "print(series4)"
   ]
  },
  {
   "cell_type": "code",
   "execution_count": 16,
   "id": "b252c11d-4220-4608-861f-b16c383e6d5f",
   "metadata": {},
   "outputs": [
    {
     "data": {
      "text/plain": [
       "pandas.core.series.Series"
      ]
     },
     "execution_count": 16,
     "metadata": {},
     "output_type": "execute_result"
    }
   ],
   "source": [
    "type(series4)"
   ]
  },
  {
   "cell_type": "markdown",
   "id": "f8ef66ce-b3e9-43ea-b9fd-a8299b55ce66",
   "metadata": {},
   "source": [
    "## Q5. What are some common functions you can use to manipulate data in a Pandas DataFrame? Can you give an example of when you might use one of these functions?"
   ]
  },
  {
   "cell_type": "code",
   "execution_count": 17,
   "id": "7b5154ba-628d-422e-bcad-07c4d10540fc",
   "metadata": {},
   "outputs": [
    {
     "data": {
      "text/html": [
       "<div>\n",
       "<style scoped>\n",
       "    .dataframe tbody tr th:only-of-type {\n",
       "        vertical-align: middle;\n",
       "    }\n",
       "\n",
       "    .dataframe tbody tr th {\n",
       "        vertical-align: top;\n",
       "    }\n",
       "\n",
       "    .dataframe thead th {\n",
       "        text-align: right;\n",
       "    }\n",
       "</style>\n",
       "<table border=\"1\" class=\"dataframe\">\n",
       "  <thead>\n",
       "    <tr style=\"text-align: right;\">\n",
       "      <th></th>\n",
       "      <th>name</th>\n",
       "      <th>age</th>\n",
       "      <th>city</th>\n",
       "      <th>category</th>\n",
       "      <th>sales</th>\n",
       "      <th>date</th>\n",
       "    </tr>\n",
       "  </thead>\n",
       "  <tbody>\n",
       "    <tr>\n",
       "      <th>0</th>\n",
       "      <td>Utkarsh</td>\n",
       "      <td>25.0</td>\n",
       "      <td>Pune</td>\n",
       "      <td>A</td>\n",
       "      <td>400</td>\n",
       "      <td>2022-01-01</td>\n",
       "    </tr>\n",
       "    <tr>\n",
       "      <th>1</th>\n",
       "      <td>Aditi</td>\n",
       "      <td>30.0</td>\n",
       "      <td>Mumbai</td>\n",
       "      <td>B</td>\n",
       "      <td>200</td>\n",
       "      <td>2022-01-02</td>\n",
       "    </tr>\n",
       "    <tr>\n",
       "      <th>2</th>\n",
       "      <td>Nitin</td>\n",
       "      <td>NaN</td>\n",
       "      <td>Delhi</td>\n",
       "      <td>A</td>\n",
       "      <td>250</td>\n",
       "      <td>2022-01-03</td>\n",
       "    </tr>\n",
       "    <tr>\n",
       "      <th>3</th>\n",
       "      <td>Bhushan</td>\n",
       "      <td>40.0</td>\n",
       "      <td>None</td>\n",
       "      <td>B</td>\n",
       "      <td>150</td>\n",
       "      <td>2022-01-04</td>\n",
       "    </tr>\n",
       "    <tr>\n",
       "      <th>4</th>\n",
       "      <td>Kritika</td>\n",
       "      <td>35.0</td>\n",
       "      <td>Banaras</td>\n",
       "      <td>A</td>\n",
       "      <td>450</td>\n",
       "      <td>2022-01-05</td>\n",
       "    </tr>\n",
       "  </tbody>\n",
       "</table>\n",
       "</div>"
      ],
      "text/plain": [
       "      name   age     city category  sales        date\n",
       "0  Utkarsh  25.0     Pune        A    400  2022-01-01\n",
       "1    Aditi  30.0   Mumbai        B    200  2022-01-02\n",
       "2    Nitin   NaN    Delhi        A    250  2022-01-03\n",
       "3  Bhushan  40.0     None        B    150  2022-01-04\n",
       "4  Kritika  35.0  Banaras        A    450  2022-01-05"
      ]
     },
     "execution_count": 17,
     "metadata": {},
     "output_type": "execute_result"
    }
   ],
   "source": [
    "data5 = {'name': ['Utkarsh', 'Aditi', 'Nitin', 'Bhushan', 'Kritika'],\n",
    "        'age': [25, 30, None, 40, 35],\n",
    "        'city': ['Pune', 'Mumbai', 'Delhi', None, 'Banaras'],\n",
    "        'category': ['A', 'B', 'A', 'B', 'A'],\n",
    "        'sales': [400, 200, 250, 150, 450],\n",
    "        'date': ['2022-01-01', '2022-01-02', '2022-01-03', '2022-01-04', '2022-01-05']}\n",
    "df5 = pd.DataFrame(data5)\n",
    "df5"
   ]
  },
  {
   "cell_type": "markdown",
   "id": "62b2f44a-f42a-476d-b964-b8da472ad803",
   "metadata": {},
   "source": [
    "### 1. dropna(): Removes any row with missing values."
   ]
  },
  {
   "cell_type": "code",
   "execution_count": 19,
   "id": "ea2ce3a8-8fa2-4df9-9c00-c1595f66da56",
   "metadata": {},
   "outputs": [
    {
     "data": {
      "text/html": [
       "<div>\n",
       "<style scoped>\n",
       "    .dataframe tbody tr th:only-of-type {\n",
       "        vertical-align: middle;\n",
       "    }\n",
       "\n",
       "    .dataframe tbody tr th {\n",
       "        vertical-align: top;\n",
       "    }\n",
       "\n",
       "    .dataframe thead th {\n",
       "        text-align: right;\n",
       "    }\n",
       "</style>\n",
       "<table border=\"1\" class=\"dataframe\">\n",
       "  <thead>\n",
       "    <tr style=\"text-align: right;\">\n",
       "      <th></th>\n",
       "      <th>name</th>\n",
       "      <th>age</th>\n",
       "      <th>city</th>\n",
       "      <th>category</th>\n",
       "      <th>sales</th>\n",
       "      <th>date</th>\n",
       "    </tr>\n",
       "  </thead>\n",
       "  <tbody>\n",
       "    <tr>\n",
       "      <th>0</th>\n",
       "      <td>Utkarsh</td>\n",
       "      <td>25.0</td>\n",
       "      <td>Pune</td>\n",
       "      <td>A</td>\n",
       "      <td>400</td>\n",
       "      <td>2022-01-01</td>\n",
       "    </tr>\n",
       "    <tr>\n",
       "      <th>1</th>\n",
       "      <td>Aditi</td>\n",
       "      <td>30.0</td>\n",
       "      <td>Mumbai</td>\n",
       "      <td>B</td>\n",
       "      <td>200</td>\n",
       "      <td>2022-01-02</td>\n",
       "    </tr>\n",
       "    <tr>\n",
       "      <th>4</th>\n",
       "      <td>Kritika</td>\n",
       "      <td>35.0</td>\n",
       "      <td>Banaras</td>\n",
       "      <td>A</td>\n",
       "      <td>450</td>\n",
       "      <td>2022-01-05</td>\n",
       "    </tr>\n",
       "  </tbody>\n",
       "</table>\n",
       "</div>"
      ],
      "text/plain": [
       "      name   age     city category  sales        date\n",
       "0  Utkarsh  25.0     Pune        A    400  2022-01-01\n",
       "1    Aditi  30.0   Mumbai        B    200  2022-01-02\n",
       "4  Kritika  35.0  Banaras        A    450  2022-01-05"
      ]
     },
     "execution_count": 19,
     "metadata": {},
     "output_type": "execute_result"
    }
   ],
   "source": [
    "dropped_df5 = df5.dropna(axis=0)\n",
    "dropped_df5"
   ]
  },
  {
   "cell_type": "markdown",
   "id": "7621cbfb-0c25-4577-9a4c-71ecaee0fb8d",
   "metadata": {},
   "source": [
    "### 2. fillna(): Fills missing values with a specified value or method."
   ]
  },
  {
   "cell_type": "code",
   "execution_count": 20,
   "id": "1c805fb6-4bb3-4ccd-aa9e-939c5ee320a2",
   "metadata": {},
   "outputs": [
    {
     "data": {
      "text/html": [
       "<div>\n",
       "<style scoped>\n",
       "    .dataframe tbody tr th:only-of-type {\n",
       "        vertical-align: middle;\n",
       "    }\n",
       "\n",
       "    .dataframe tbody tr th {\n",
       "        vertical-align: top;\n",
       "    }\n",
       "\n",
       "    .dataframe thead th {\n",
       "        text-align: right;\n",
       "    }\n",
       "</style>\n",
       "<table border=\"1\" class=\"dataframe\">\n",
       "  <thead>\n",
       "    <tr style=\"text-align: right;\">\n",
       "      <th></th>\n",
       "      <th>name</th>\n",
       "      <th>age</th>\n",
       "      <th>city</th>\n",
       "      <th>category</th>\n",
       "      <th>sales</th>\n",
       "      <th>date</th>\n",
       "    </tr>\n",
       "  </thead>\n",
       "  <tbody>\n",
       "    <tr>\n",
       "      <th>0</th>\n",
       "      <td>Utkarsh</td>\n",
       "      <td>25.0</td>\n",
       "      <td>Pune</td>\n",
       "      <td>A</td>\n",
       "      <td>400</td>\n",
       "      <td>2022-01-01</td>\n",
       "    </tr>\n",
       "    <tr>\n",
       "      <th>1</th>\n",
       "      <td>Aditi</td>\n",
       "      <td>30.0</td>\n",
       "      <td>Mumbai</td>\n",
       "      <td>B</td>\n",
       "      <td>200</td>\n",
       "      <td>2022-01-02</td>\n",
       "    </tr>\n",
       "    <tr>\n",
       "      <th>2</th>\n",
       "      <td>Nitin</td>\n",
       "      <td>0.0</td>\n",
       "      <td>Delhi</td>\n",
       "      <td>A</td>\n",
       "      <td>250</td>\n",
       "      <td>2022-01-03</td>\n",
       "    </tr>\n",
       "    <tr>\n",
       "      <th>3</th>\n",
       "      <td>Bhushan</td>\n",
       "      <td>40.0</td>\n",
       "      <td>0</td>\n",
       "      <td>B</td>\n",
       "      <td>150</td>\n",
       "      <td>2022-01-04</td>\n",
       "    </tr>\n",
       "    <tr>\n",
       "      <th>4</th>\n",
       "      <td>Kritika</td>\n",
       "      <td>35.0</td>\n",
       "      <td>Banaras</td>\n",
       "      <td>A</td>\n",
       "      <td>450</td>\n",
       "      <td>2022-01-05</td>\n",
       "    </tr>\n",
       "  </tbody>\n",
       "</table>\n",
       "</div>"
      ],
      "text/plain": [
       "      name   age     city category  sales        date\n",
       "0  Utkarsh  25.0     Pune        A    400  2022-01-01\n",
       "1    Aditi  30.0   Mumbai        B    200  2022-01-02\n",
       "2    Nitin   0.0    Delhi        A    250  2022-01-03\n",
       "3  Bhushan  40.0        0        B    150  2022-01-04\n",
       "4  Kritika  35.0  Banaras        A    450  2022-01-05"
      ]
     },
     "execution_count": 20,
     "metadata": {},
     "output_type": "execute_result"
    }
   ],
   "source": [
    "filled_df5 = df5.fillna(0)\n",
    "filled_df5"
   ]
  },
  {
   "cell_type": "markdown",
   "id": "304a8f96-8b4b-4969-aced-52ec9cb29493",
   "metadata": {},
   "source": [
    "### 3. groupby(): Groups the DataFrame by one or more columns and allows for aggregation of the data."
   ]
  },
  {
   "cell_type": "code",
   "execution_count": 21,
   "id": "c67b5afe-0cff-46ea-8f06-fbbd1dc8f09b",
   "metadata": {},
   "outputs": [
    {
     "data": {
      "text/html": [
       "<div>\n",
       "<style scoped>\n",
       "    .dataframe tbody tr th:only-of-type {\n",
       "        vertical-align: middle;\n",
       "    }\n",
       "\n",
       "    .dataframe tbody tr th {\n",
       "        vertical-align: top;\n",
       "    }\n",
       "\n",
       "    .dataframe thead th {\n",
       "        text-align: right;\n",
       "    }\n",
       "</style>\n",
       "<table border=\"1\" class=\"dataframe\">\n",
       "  <thead>\n",
       "    <tr style=\"text-align: right;\">\n",
       "      <th></th>\n",
       "      <th>age</th>\n",
       "      <th>sales</th>\n",
       "    </tr>\n",
       "    <tr>\n",
       "      <th>category</th>\n",
       "      <th></th>\n",
       "      <th></th>\n",
       "    </tr>\n",
       "  </thead>\n",
       "  <tbody>\n",
       "    <tr>\n",
       "      <th>A</th>\n",
       "      <td>30.0</td>\n",
       "      <td>366.666667</td>\n",
       "    </tr>\n",
       "    <tr>\n",
       "      <th>B</th>\n",
       "      <td>35.0</td>\n",
       "      <td>175.000000</td>\n",
       "    </tr>\n",
       "  </tbody>\n",
       "</table>\n",
       "</div>"
      ],
      "text/plain": [
       "           age       sales\n",
       "category                  \n",
       "A         30.0  366.666667\n",
       "B         35.0  175.000000"
      ]
     },
     "execution_count": 21,
     "metadata": {},
     "output_type": "execute_result"
    }
   ],
   "source": [
    "sales_mean = df5.groupby('category').mean(numeric_only=True)\n",
    "sales_mean"
   ]
  },
  {
   "cell_type": "markdown",
   "id": "72893916-f393-42e1-8c7e-46c0b4e2a65d",
   "metadata": {},
   "source": [
    "## 4. sort_values(): Sorts the DataFrame by one or more columns."
   ]
  },
  {
   "cell_type": "code",
   "execution_count": 23,
   "id": "ab87acb5-5f27-4be0-9bb6-8df27988363a",
   "metadata": {},
   "outputs": [
    {
     "data": {
      "text/html": [
       "<div>\n",
       "<style scoped>\n",
       "    .dataframe tbody tr th:only-of-type {\n",
       "        vertical-align: middle;\n",
       "    }\n",
       "\n",
       "    .dataframe tbody tr th {\n",
       "        vertical-align: top;\n",
       "    }\n",
       "\n",
       "    .dataframe thead th {\n",
       "        text-align: right;\n",
       "    }\n",
       "</style>\n",
       "<table border=\"1\" class=\"dataframe\">\n",
       "  <thead>\n",
       "    <tr style=\"text-align: right;\">\n",
       "      <th></th>\n",
       "      <th>name</th>\n",
       "      <th>age</th>\n",
       "      <th>city</th>\n",
       "      <th>category</th>\n",
       "      <th>sales</th>\n",
       "      <th>date</th>\n",
       "    </tr>\n",
       "  </thead>\n",
       "  <tbody>\n",
       "    <tr>\n",
       "      <th>4</th>\n",
       "      <td>Kritika</td>\n",
       "      <td>35.0</td>\n",
       "      <td>Banaras</td>\n",
       "      <td>A</td>\n",
       "      <td>450</td>\n",
       "      <td>2022-01-05</td>\n",
       "    </tr>\n",
       "    <tr>\n",
       "      <th>0</th>\n",
       "      <td>Utkarsh</td>\n",
       "      <td>25.0</td>\n",
       "      <td>Pune</td>\n",
       "      <td>A</td>\n",
       "      <td>400</td>\n",
       "      <td>2022-01-01</td>\n",
       "    </tr>\n",
       "    <tr>\n",
       "      <th>2</th>\n",
       "      <td>Nitin</td>\n",
       "      <td>NaN</td>\n",
       "      <td>Delhi</td>\n",
       "      <td>A</td>\n",
       "      <td>250</td>\n",
       "      <td>2022-01-03</td>\n",
       "    </tr>\n",
       "    <tr>\n",
       "      <th>1</th>\n",
       "      <td>Aditi</td>\n",
       "      <td>30.0</td>\n",
       "      <td>Mumbai</td>\n",
       "      <td>B</td>\n",
       "      <td>200</td>\n",
       "      <td>2022-01-02</td>\n",
       "    </tr>\n",
       "    <tr>\n",
       "      <th>3</th>\n",
       "      <td>Bhushan</td>\n",
       "      <td>40.0</td>\n",
       "      <td>None</td>\n",
       "      <td>B</td>\n",
       "      <td>150</td>\n",
       "      <td>2022-01-04</td>\n",
       "    </tr>\n",
       "  </tbody>\n",
       "</table>\n",
       "</div>"
      ],
      "text/plain": [
       "      name   age     city category  sales        date\n",
       "4  Kritika  35.0  Banaras        A    450  2022-01-05\n",
       "0  Utkarsh  25.0     Pune        A    400  2022-01-01\n",
       "2    Nitin   NaN    Delhi        A    250  2022-01-03\n",
       "1    Aditi  30.0   Mumbai        B    200  2022-01-02\n",
       "3  Bhushan  40.0     None        B    150  2022-01-04"
      ]
     },
     "execution_count": 23,
     "metadata": {},
     "output_type": "execute_result"
    }
   ],
   "source": [
    "df5.sort_values(by='sales',ascending=False)"
   ]
  },
  {
   "cell_type": "markdown",
   "id": "6f579dda-9430-490a-8902-ab64ef5f7f90",
   "metadata": {},
   "source": [
    "## Q6. Which of the following is mutable in nature Series, DataFrame, Panel?"
   ]
  },
  {
   "cell_type": "markdown",
   "id": "586f3775-3c4b-4f54-9d76-300ec22fd05a",
   "metadata": {},
   "source": [
    "In pandas, Series and DataFrame are mutable in nature.\n",
    "\n",
    "Panel is considered immutable.\n",
    "\n",
    "That means, Series and DataFrame objects can be modified after they are created, and any changes made to them will be reflected in the original objects. On the other hand, Panel objects are generally not modified once created, and any changes made to them usually result in the creation of a new object.\n",
    "\n",
    "Note that while Series and DataFrame objects are mutable, it is generally recommended to avoid modifying them in place, as this can lead to unexpected results and errors. Instead, it is often better to create a new object with the desired modifications."
   ]
  },
  {
   "cell_type": "markdown",
   "id": "5deac6f0-c8f1-4acf-bbd6-6e943f7e919e",
   "metadata": {},
   "source": [
    "## Q7. Create a DataFrame using multiple Series. Explain with an example."
   ]
  },
  {
   "cell_type": "markdown",
   "id": "ccdcab70-61d7-4643-bc04-8153d5a964de",
   "metadata": {},
   "source": [
    "By using concat() method you can merge multiple series together into DataFrame. This takes several params, for our scenario we use list that takes series to combine and axis=1 to specify merge series as columns instead of rows. Note that using axis=0 appends series to rows instead of columns."
   ]
  },
  {
   "cell_type": "code",
   "execution_count": null,
   "id": "e8f60ce9-02bf-45ff-a912-e0fb80d5cacb",
   "metadata": {},
   "outputs": [],
   "source": []
  }
 ],
 "metadata": {
  "kernelspec": {
   "display_name": "Python 3 (ipykernel)",
   "language": "python",
   "name": "python3"
  },
  "language_info": {
   "codemirror_mode": {
    "name": "ipython",
    "version": 3
   },
   "file_extension": ".py",
   "mimetype": "text/x-python",
   "name": "python",
   "nbconvert_exporter": "python",
   "pygments_lexer": "ipython3",
   "version": "3.10.8"
  }
 },
 "nbformat": 4,
 "nbformat_minor": 5
}
