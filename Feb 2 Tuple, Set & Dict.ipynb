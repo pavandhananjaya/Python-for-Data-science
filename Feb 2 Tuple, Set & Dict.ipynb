{
 "cells": [
  {
   "cell_type": "markdown",
   "id": "3ec96f48-e7f8-49bc-8b3f-c2130acc39ed",
   "metadata": {},
   "source": [
    "Q1. What are the characteristics of the tuples? Is tuple immutable?\n",
    "Answer : Tuples are an ordered collection of elements of different data types. tuples are enclosed in () brackets.\n",
    "tuples are immutable which means unchangeable and allow duplicate values."
   ]
  },
  {
   "cell_type": "markdown",
   "id": "cc6a74b0-05df-43d6-a9ca-14721ec45818",
   "metadata": {},
   "source": [
    "Q2. What are the two tuple methods in python? Give an example of each method. Give a reason why\n",
    "    tuples have only two in-built methods as compared to Lists.\n",
    "Answer : count() and index() are the 2 in-built tuple methods in python.Tuples are immutable so there are only 2 in-built methods whereas List are mutable so there are more methods for Lists such as append,extend,pop etc.\n",
    "\n",
    "Below are examples for index() and count() in tuple."
   ]
  },
  {
   "cell_type": "code",
   "execution_count": 1,
   "id": "41fd6a0a-23fa-4250-b507-a41133cb7d2a",
   "metadata": {},
   "outputs": [
    {
     "data": {
      "text/plain": [
       "2"
      ]
     },
     "execution_count": 1,
     "metadata": {},
     "output_type": "execute_result"
    }
   ],
   "source": [
    "## index()\n",
    "t1=(1,2,3,4,3,4,3)\n",
    "t1.index(3) # this will show only first occurence of 3"
   ]
  },
  {
   "cell_type": "code",
   "execution_count": 2,
   "id": "311b8b6b-b325-430a-ac5c-54d295dd73cb",
   "metadata": {},
   "outputs": [
    {
     "data": {
      "text/plain": [
       "2"
      ]
     },
     "execution_count": 2,
     "metadata": {},
     "output_type": "execute_result"
    }
   ],
   "source": [
    "t2=(1,1,1,2,3,4,5,3,2,4,6)\n",
    "t2.count(3) # this will show how many times 3 is present in t2"
   ]
  },
  {
   "cell_type": "markdown",
   "id": "d75ac9e2-1fec-4f79-8018-8bcecb44161b",
   "metadata": {},
   "source": [
    "Q3. Which collection datatypes in python do not allow duplicate items? \n",
    "\n",
    "Answer: Set does not support duplicate items\n",
    "\n",
    "Write a code using a set to remove\n",
    "duplicates from the given list."
   ]
  },
  {
   "cell_type": "code",
   "execution_count": 5,
   "id": "bbf6edcf-cd9b-44f1-a463-7f9fe2455e42",
   "metadata": {},
   "outputs": [
    {
     "data": {
      "text/plain": [
       "{1, 2, 3, 4}"
      ]
     },
     "execution_count": 5,
     "metadata": {},
     "output_type": "execute_result"
    }
   ],
   "source": [
    "List = [1, 1, 1, 2, 1, 3, 1, 4, 2, 1, 2, 2, 2, 3, 2, 4, 3, 1, 3, 2, 3, 3, 3, 4, 4, 1, 4, 2, 4, 3, 4, 4]\n",
    "s1=set(List)\n",
    "s1"
   ]
  },
  {
   "cell_type": "markdown",
   "id": "84f8b04e-28f8-4684-b886-4c79497aa976",
   "metadata": {},
   "source": [
    "Q4. Explain the difference between the union() and update() methods for a set. Give an example of\n",
    "each method.\n",
    "\n",
    "Answer : union()- The union of two sets returns a new set that contains distinct elements from both sets.\n",
    "Update() - adds all missing elements to the set on which it is called\n",
    "\n",
    "Below are Examples"
   ]
  },
  {
   "cell_type": "code",
   "execution_count": 7,
   "id": "8b61b788-c0fe-49f3-8732-2e63822d7b4b",
   "metadata": {},
   "outputs": [
    {
     "name": "stdout",
     "output_type": "stream",
     "text": [
      "{1, 2, 3, 4, 5, 6}\n",
      "{1, 2, 3, 4}\n",
      "{1, 2, 5, 6}\n"
     ]
    }
   ],
   "source": [
    "s1={1,2,3,4}\n",
    "s2={1,2,5,6}\n",
    "print(s1.union(s2))\n",
    "print(s1)\n",
    "print(s2)\n"
   ]
  },
  {
   "cell_type": "code",
   "execution_count": 8,
   "id": "3b2f9920-2f09-42f1-a2c6-ce376d01ce01",
   "metadata": {},
   "outputs": [
    {
     "name": "stdout",
     "output_type": "stream",
     "text": [
      "None\n",
      "{1, 2, 3, 4, 5, 6}\n",
      "{1, 2, 5, 6}\n"
     ]
    }
   ],
   "source": [
    "s3={1,2,3,4}\n",
    "s4={1,2,5,6}\n",
    "print(s3.update(s4))\n",
    "print(s3)\n",
    "print(s4)\n"
   ]
  },
  {
   "cell_type": "markdown",
   "id": "627066a2-9133-411d-b4fc-f68eeb3f7a69",
   "metadata": {},
   "source": [
    "Q5. What is a dictionary? Give an example. Also, state whether a dictionary is ordered or unordered.\n",
    "\n",
    "Answer : The dictionary is an unordered collection that contains key:value pairs separated by commas inside curly brackets.it is mutable\n",
    "\n",
    "Below is the example for dictionary data structure."
   ]
  },
  {
   "cell_type": "code",
   "execution_count": 10,
   "id": "7cf33569-2ff7-4454-814e-adec1f49d40d",
   "metadata": {},
   "outputs": [
    {
     "data": {
      "text/plain": [
       "{'name': 'Jayasree',\n",
       " 'age': 27,\n",
       " 'working_experience': 6,\n",
       " 'company': 'L&T Infotech',\n",
       " 'role': 'data engineer'}"
      ]
     },
     "execution_count": 10,
     "metadata": {},
     "output_type": "execute_result"
    }
   ],
   "source": [
    "dict1={\"name\":\"Jayasree\",\"age\":27,\"working_experience\":6,\"company\":\"L&T Infotech\",\"role\":\"data engineer\"}\n",
    "dict1"
   ]
  },
  {
   "cell_type": "markdown",
   "id": "a082fa69-f848-4878-8993-9e6d1e43288b",
   "metadata": {},
   "source": [
    "Q6. Can we create a nested dictionary? If so, please give an example by creating a simple one-level\n",
    "nested dictionary."
   ]
  },
  {
   "cell_type": "code",
   "execution_count": 11,
   "id": "752d227b-665a-46c5-947e-8ebf28dcd60e",
   "metadata": {},
   "outputs": [
    {
     "data": {
      "text/plain": [
       "{'customer1': {'name': 'jaya', 'date_of_birth': 1995},\n",
       " 'customer2': {'name': 'shasi', 'item_bought': 'mobile'},\n",
       " 'customer3': {'name': 'Jayasree', 'type': 'Retail'}}"
      ]
     },
     "execution_count": 11,
     "metadata": {},
     "output_type": "execute_result"
    }
   ],
   "source": [
    "customer_details = {\n",
    "  \"customer1\" : {\n",
    "    \"name\" : \"jaya\",\n",
    "    \"date_of_birth\" : 1995\n",
    "  },\n",
    "  \"customer2\" : {\n",
    "    \"name\" : \"shasi\",\n",
    "    \"item_bought\" : \"mobile\"\n",
    "  },\n",
    "  \"customer3\" : {\n",
    "    \"name\" : \"Jayasree\",\n",
    "    \"type\" : \"Retail\"\n",
    "  }\n",
    "}\n",
    "customer_details"
   ]
  },
  {
   "cell_type": "markdown",
   "id": "cc87f27b-d9b5-4250-a2b7-feaf66eb35d7",
   "metadata": {},
   "source": [
    "Q7. Using setdefault() method, create key named topics in the given dictionary and also add the value of\n",
    "the key as this list ['Python', 'Machine Learning’, 'Deep Learning']\n",
    "dict1 = {'language' : 'Python', 'course': 'Data Science Masters'}"
   ]
  },
  {
   "cell_type": "code",
   "execution_count": 3,
   "id": "29c3524a-9fb8-4d6e-9f72-6fc1e711b866",
   "metadata": {},
   "outputs": [
    {
     "data": {
      "text/plain": [
       "{'language': 'Python',\n",
       " 'course': 'Data Science Masters',\n",
       " 'topics': ['Python', 'Machine Learning', 'Deep Learning']}"
      ]
     },
     "execution_count": 3,
     "metadata": {},
     "output_type": "execute_result"
    }
   ],
   "source": [
    "dict1 = {'language' : 'Python', 'course': 'Data Science Masters'}\n",
    "dict1.setdefault(\"topics\",[\"Python\",\"Machine Learning\",\"Deep Learning\"])\n",
    "dict1\n"
   ]
  },
  {
   "cell_type": "markdown",
   "id": "ad5f4920-6a62-495f-b18c-8581c8e6535b",
   "metadata": {},
   "source": [
    "Q8. What are the three view objects in dictionaries? Use the three in-built methods in python to display\n",
    "these three view objects for the given dictionary.\n",
    "dict1 = {'Sport': 'Cricket' , 'Teams': ['India', 'Australia', 'England', 'South Africa', 'Sri Lanka', 'New Zealand']}\n",
    "\n",
    "Answer: keys, values and items are the three view objects in dictionary . keys(),values() and items() are the three in-built methods in python to display three view objects of adictionary"
   ]
  },
  {
   "cell_type": "code",
   "execution_count": 5,
   "id": "8f79e86d-d243-47b8-9912-9be13672740a",
   "metadata": {},
   "outputs": [
    {
     "name": "stdout",
     "output_type": "stream",
     "text": [
      "dict_keys(['Sport', 'Teams'])\n",
      "dict_values(['Cricket', ['India', 'Australia', 'England', 'South Africa', 'Sri Lanka', 'New Zealand']])\n",
      "dict_items([('Sport', 'Cricket'), ('Teams', ['India', 'Australia', 'England', 'South Africa', 'Sri Lanka', 'New Zealand'])])\n"
     ]
    }
   ],
   "source": [
    "dict1 = {'Sport': 'Cricket' , 'Teams': ['India', 'Australia', 'England', 'South Africa', 'Sri Lanka', 'New Zealand']}\n",
    "print(dict1.keys())\n",
    "print(dict1.values())\n",
    "print(dict1.items())"
   ]
  },
  {
   "cell_type": "code",
   "execution_count": null,
   "id": "1c9d7851-48b5-484c-b8dd-dc35e64f0070",
   "metadata": {},
   "outputs": [],
   "source": []
  }
 ],
 "metadata": {
  "kernelspec": {
   "display_name": "Python 3 (ipykernel)",
   "language": "python",
   "name": "python3"
  },
  "language_info": {
   "codemirror_mode": {
    "name": "ipython",
    "version": 3
   },
   "file_extension": ".py",
   "mimetype": "text/x-python",
   "name": "python",
   "nbconvert_exporter": "python",
   "pygments_lexer": "ipython3",
   "version": "3.10.8"
  }
 },
 "nbformat": 4,
 "nbformat_minor": 5
}
