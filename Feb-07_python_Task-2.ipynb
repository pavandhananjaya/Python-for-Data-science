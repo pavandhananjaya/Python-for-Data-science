{
 "cells": [
  {
   "cell_type": "markdown",
   "id": "48f78dc5-d9f5-4819-8ff9-a377c6c0283b",
   "metadata": {},
   "source": [
    "Q1. You are writing code for a company. The requirement of the company is that you create a python\n",
    "function that will check whether the password entered by the user is correct or not. The function should\n",
    "take the password as input and return the string “Valid Password” if the entered password follows the\n",
    "below-given password guidelines else it should return “Invalid Password”.\n",
    "Note: 1. The Password should contain at least two uppercase letters and at least two lowercase letters.\n",
    "2. The Password should contain at least a number and three special characters.\n",
    "3. The length of the password should be 10 characters long."
   ]
  },
  {
   "cell_type": "code",
   "execution_count": 6,
   "id": "1d28ac65-c135-43ef-a97a-38b149a5fa4e",
   "metadata": {},
   "outputs": [
    {
     "name": "stdin",
     "output_type": "stream",
     "text": [
      "Enter the password: HI6@#$&^$%sdfghj\n"
     ]
    },
    {
     "name": "stdout",
     "output_type": "stream",
     "text": [
      "Valid Password\n"
     ]
    }
   ],
   "source": [
    "import re\n",
    "password=input(\"Enter the password:\")\n",
    "if (len(password) != 10 and re.search(r'[A-Z]{2,}', password) and re.search(r'[a-z]{2,}', password) and re.search(r'\\d', password) and re.search(r'[!@#$%^&*()_+-=;:\\'\",.<>/?]{3,}', password)):\n",
    "    \n",
    "    print(\"Valid Password\")\n",
    "else:\n",
    "    print(\"Invalid Password\")\n",
    "          "
   ]
  },
  {
   "cell_type": "markdown",
   "id": "0f4fc10a-e3bf-4dc6-a8cc-922610492fb9",
   "metadata": {},
   "source": [
    "Q2. Solve the below-given questions using at least one of the following:\n",
    "1. Lambda function\n",
    "2. Filter function\n",
    "3. Zap function\n",
    "4. List Comprehension\n",
    "\n",
    "Check if the string starts with a particular letter\n"
   ]
  },
  {
   "cell_type": "code",
   "execution_count": 7,
   "id": "00fcf782-3ae5-47a4-ab00-7e6d5227df8c",
   "metadata": {},
   "outputs": [
    {
     "name": "stdout",
     "output_type": "stream",
     "text": [
      "['apple']\n"
     ]
    }
   ],
   "source": [
    "string_list = ['apple', 'banana', 'cherry']\n",
    "letter = 'a'\n",
    "result = list(filter(lambda x: x.startswith(letter), string_list))\n",
    "print(result)"
   ]
  },
  {
   "cell_type": "markdown",
   "id": "f75a33ee-bb05-438c-892c-938eb85f2780",
   "metadata": {},
   "source": [
    "Check if the string is numeric"
   ]
  },
  {
   "cell_type": "code",
   "execution_count": 8,
   "id": "4d6343ee-878c-4b1d-84ec-a85d0391b569",
   "metadata": {},
   "outputs": [
    {
     "name": "stdout",
     "output_type": "stream",
     "text": [
      "['123', '456']\n"
     ]
    }
   ],
   "source": [
    "string_list = ['123', '456', 'abc']\n",
    "result = list(filter(lambda x: x.isnumeric(), string_list))\n",
    "print(result)"
   ]
  },
  {
   "cell_type": "markdown",
   "id": "febb3d4b-c27c-4992-9401-904e7c00cdf4",
   "metadata": {},
   "source": [
    "Sort a list of tuples having fruit names and their quantity. [(\"mango\",99),(\"orange\",80), (\"grapes\", 1000)]"
   ]
  },
  {
   "cell_type": "code",
   "execution_count": 9,
   "id": "b14098bd-ddeb-44ce-9a0d-379d5e65f27a",
   "metadata": {},
   "outputs": [
    {
     "name": "stdout",
     "output_type": "stream",
     "text": [
      "[('orange', 80), ('mango', 99), ('grapes', 1000)]\n"
     ]
    }
   ],
   "source": [
    "fruits = [(\"mango\", 99), (\"orange\", 80), (\"grapes\", 1000)]\n",
    "result = sorted(fruits, key=lambda x: x[1])\n",
    "print(result)"
   ]
  },
  {
   "cell_type": "markdown",
   "id": "0f328b01-f80c-4e12-80c9-38c4ca3911a2",
   "metadata": {},
   "source": [
    "Find the squares of numbers from 1 to 10"
   ]
  },
  {
   "cell_type": "code",
   "execution_count": 10,
   "id": "e0d5a0ee-feaf-457f-9d01-3a0d60145a9f",
   "metadata": {},
   "outputs": [
    {
     "name": "stdout",
     "output_type": "stream",
     "text": [
      "[1, 4, 9, 16, 25, 36, 49, 64, 81, 100]\n"
     ]
    }
   ],
   "source": [
    "numbers = [1, 2, 3, 4, 5, 6, 7, 8, 9, 10]\n",
    "result = [x**2 for x in numbers]\n",
    "print(result)\n"
   ]
  },
  {
   "cell_type": "markdown",
   "id": "fb08b7a5-6156-4c59-8284-b77a2bcd2819",
   "metadata": {},
   "source": [
    "Find the cube root of numbers from 1 to 10"
   ]
  },
  {
   "cell_type": "code",
   "execution_count": 12,
   "id": "240bcce9-6200-45c8-af62-62e3dcbbfe43",
   "metadata": {},
   "outputs": [
    {
     "name": "stdout",
     "output_type": "stream",
     "text": [
      "[1.0, 1.2599210498948732, 1.4422495703074083, 1.5874010519681994, 1.7099759466766968, 1.8171205928321397, 1.912931182772389, 2.0, 2.080083823051904, 2.154434690031884]\n"
     ]
    }
   ],
   "source": [
    "numbers = [1, 2, 3, 4, 5, 6, 7, 8, 9, 10]\n",
    "result = [pow(x, 1/3) for x in numbers]\n",
    "print(result)\n"
   ]
  },
  {
   "cell_type": "markdown",
   "id": "381a1a4b-019a-4154-8ff5-5e643a904db0",
   "metadata": {},
   "source": [
    "Check if a given number is even"
   ]
  },
  {
   "cell_type": "code",
   "execution_count": 13,
   "id": "00f433cd-bdb9-49d1-97a1-e93f9bdc7f8c",
   "metadata": {},
   "outputs": [
    {
     "name": "stdout",
     "output_type": "stream",
     "text": [
      "True\n"
     ]
    }
   ],
   "source": [
    "number = 4\n",
    "result = (lambda x: x % 2 == 0)(number)\n",
    "print(result)"
   ]
  },
  {
   "cell_type": "markdown",
   "id": "ac4aecd6-6cc9-487a-9660-c0a85496fa33",
   "metadata": {},
   "source": [
    "Filter odd numbers from the given list.\n",
    "[1,2,3,4,5,6,7,8,9,10]"
   ]
  },
  {
   "cell_type": "code",
   "execution_count": 14,
   "id": "90e48a69-b5cf-460e-9f98-28b052acf8e9",
   "metadata": {},
   "outputs": [
    {
     "name": "stdout",
     "output_type": "stream",
     "text": [
      "[1, 3, 5, 7, 9]\n"
     ]
    }
   ],
   "source": [
    "numbers = [1, 2, 3, 4, 5, 6, 7, 8, 9, 10]\n",
    "result = [x for x in numbers if x % 2 != 0]\n",
    "print(result)"
   ]
  },
  {
   "cell_type": "markdown",
   "id": "b6d2517b-d1ce-465a-90de-36c39de4dc34",
   "metadata": {},
   "source": [
    "Sort a list of integers into positive and negative integers lists.\n",
    "[1,2,3,4,5,6,-1,-2,-3,-4,-5,0]"
   ]
  },
  {
   "cell_type": "code",
   "execution_count": 15,
   "id": "b074bd82-1edf-4ce0-8821-7012760e4d97",
   "metadata": {},
   "outputs": [
    {
     "name": "stdout",
     "output_type": "stream",
     "text": [
      "[1, 2, 3, 4, 5, 6]\n",
      "[-1, -2, -3, -4, -5]\n"
     ]
    }
   ],
   "source": [
    "numbers = [1, 2, 3, 4, 5, 6, -1, -2, -3, -4, -5, 0]\n",
    "positive = [x for x in numbers if x > 0]\n",
    "negative = [x for x in numbers if x < 0]\n",
    "print(positive)\n",
    "print(negative)"
   ]
  },
  {
   "cell_type": "code",
   "execution_count": null,
   "id": "a3daaa3f-5747-4fc5-9d1c-6498ad242bc4",
   "metadata": {},
   "outputs": [],
   "source": []
  }
 ],
 "metadata": {
  "kernelspec": {
   "display_name": "Python 3 (ipykernel)",
   "language": "python",
   "name": "python3"
  },
  "language_info": {
   "codemirror_mode": {
    "name": "ipython",
    "version": 3
   },
   "file_extension": ".py",
   "mimetype": "text/x-python",
   "name": "python",
   "nbconvert_exporter": "python",
   "pygments_lexer": "ipython3",
   "version": "3.10.8"
  }
 },
 "nbformat": 4,
 "nbformat_minor": 5
}
