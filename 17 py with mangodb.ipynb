{
 "cells": [
  {
   "cell_type": "markdown",
   "id": "dfcdd284-6bee-4d94-84ea-48cadc29dc4d",
   "metadata": {},
   "source": [
    "### What is MongoDB? Explain non-relational databases in short. In which scenarios it is preferred to use MongoDB over SQL databases?"
   ]
  },
  {
   "cell_type": "markdown",
   "id": "503f89f4-c357-4150-ae01-cb582f8b7c27",
   "metadata": {},
   "source": [
    "MongoDB is a popular NoSQL, document-oriented database system that stores data in flexible, JSON-like documents. It provides a rich set of features and capabilities that make it well-suited for building modern, data-driven applications. MongoDB is known for its ability to handle unstructured data and provide high scalability and performance.\n",
    "\n",
    "Non-relational databases are a type of database that does not follow the traditional relational database model. Instead, they use a variety of data models, such as key-value, document, and graph, to store and manage data. Non-relational databases are more flexible than relational databases and are better suited for handling large amounts of unstructured data. They are highly suitable for use cases such as real-time data streaming, IoT, and big data analytics."
   ]
  },
  {
   "cell_type": "markdown",
   "id": "2436643d-1c7e-4976-a93b-f12406df6bb2",
   "metadata": {},
   "source": [
    "MongoDB is preferred over SQL databases in scenarios where:\n",
    "\n",
    "    High scalability and availability are required - MongoDB is highly scalable and can be easily scaled horizontally across multiple servers. It also provides high availability through automatic replication and failover.\n",
    "\n",
    "    High performance is required - MongoDB is designed for high performance and can handle large volumes of data with low latency.\n",
    "\n",
    "    Large volumes of unstructured data need to be handled - MongoDB is highly flexible and can handle a wide range of unstructured data.\n",
    "\n",
    "    Rapid application development is required - MongoDB's flexible document model and dynamic schema allow for rapid application development and iteration.\n",
    "\n",
    "    Real-time analytics are required - MongoDB supports real-time analytics and aggregation through its built-in aggregation framework."
   ]
  },
  {
   "cell_type": "markdown",
   "id": "bcbf738d-40ae-418e-861d-2fc7f82d055f",
   "metadata": {},
   "source": [
    "### Q2. State and Explain the features of MongoDB."
   ]
  },
  {
   "cell_type": "markdown",
   "id": "28952ebf-1c09-43de-b9a4-6f7ef9b5a565",
   "metadata": {},
   "source": [
    "MongoDB is a popular open-source NoSQL document database that is designed for scalability, flexibility, and high availability.\n",
    "\n",
    "\n",
    "    Document-oriented: MongoDB is a document-oriented database that stores data in JSON-like documents, making it highly flexible and adaptable to changing data needs.\n",
    "\n",
    "    High Scalability and Availability: MongoDB is highly scalable and can be easily scaled horizontally across multiple servers. It also provides high availability through automatic replication and failover.\n",
    "\n",
    "    High Performance: MongoDB is designed for high performance and can handle large volumes of data with low latency.\n",
    "\n",
    "    Dynamic Schema: MongoDB's dynamic schema allows for rapid application development and iteration.\n",
    "\n",
    "    Rich Query Language: MongoDB supports a rich query language with support for advanced queries such as aggregation, geospatial queries, and text search.\n",
    "\n",
    "    Distributed Transactions: MongoDB supports distributed transactions, making it easier to maintain data consistency across multiple nodes in a cluster.\n",
    "\n",
    "    Flexible Data Model: MongoDB's flexible data model allows for the storage of a wide range of data types, including structured, semi-structured, and unstructured data.\n",
    "\n",
    "    Auto-Sharding: MongoDB's auto-sharding feature allows for automatic distribution of data across multiple servers, making it easier to scale horizontally.\n",
    "\n",
    "    Ad-hoc Queries: MongoDB allows for ad-hoc queries on any field in the database, making it easy to search and retrieve data.\n",
    "\n",
    "    Built-in Aggregation Framework: MongoDB has a built-in aggregation framework that provides powerful aggregation and data processing capabilities."
   ]
  },
  {
   "cell_type": "markdown",
   "id": "86631bd4-c747-40e1-8a8d-17ea57eeb7a8",
   "metadata": {},
   "source": [
    "## Q3. Write a code to connect MongoDB to Python. Also, create a database and a collection in MongoDB."
   ]
  },
  {
   "cell_type": "code",
   "execution_count": null,
   "id": "697bae18-707b-4304-b2c9-d69b5ff628ca",
   "metadata": {},
   "outputs": [],
   "source": [
    "import pymongo\n",
    "\n",
    "# Connect to MongoDB\n",
    "client = pymongo.MongoClient(\"mongodb://localhost:27017/\")\n",
    "\n",
    "# Create a database\n",
    "mydb = client[\"mydatabase\"]\n",
    "\n",
    "# Create a collection\n",
    "mycol = mydb[\"customers\"]\n",
    "\n",
    "# Insert a document into the collection\n",
    "mydict = { \"name\": \"Pavan\", \"address\": \"27/29, bengaluru\" }\n",
    "x = mycol.insert_one(mydict)\n",
    "\n",
    "# Print the ID of the inserted document\n",
    "print(x.inserted_id)\n"
   ]
  },
  {
   "cell_type": "markdown",
   "id": "166f80a7-8313-4961-b59d-413700c114e7",
   "metadata": {},
   "source": [
    "## Q4. Using the database and the collection created in question number 3, write a code to insert one record,and insert many records. Use the find() and find_one() methods to print the inserted record."
   ]
  },
  {
   "cell_type": "code",
   "execution_count": null,
   "id": "a30e321c-da03-4e09-aacb-f7c3cc6e85d6",
   "metadata": {},
   "outputs": [],
   "source": [
    "import pymongo\n",
    "\n",
    "# Connect to MongoDB\n",
    "client = pymongo.MongoClient(\"mongodb://localhost:27017/\")\n",
    "\n",
    "# Select the database and collection\n",
    "mydb = client[\"mydatabase\"]\n",
    "mycol = mydb[\"customers\"]\n",
    "\n",
    "# Insert one record\n",
    "mydict = { \"name\": \"Pavan\", \"address\": \"27/29, bengaluru\" }\n",
    "x = mycol.insert_one(mydict)\n",
    "\n",
    "# Insert multiple records\n",
    "mylist = [\n",
    "  { \"name\": \"arjun\", \"address\": \" 1 bengaluru\" },\n",
    "  { \"name\": \"Charlie\", \"address\": \"3 bengaluru\" },\n",
    "  { \"name\": \"ram\", \"address\": \" 21 bengaluru\" }\n",
    "]\n",
    "y = mycol.insert_many(mylist)\n",
    "\n",
    "\n",
    "print(mycol.find_one())\n",
    "\n",
    "\n",
    "for x in mycol.find():\n",
    "  print(x)\n"
   ]
  },
  {
   "cell_type": "markdown",
   "id": "09ffffab-5c9a-4a64-9ffb-72ac392e1a23",
   "metadata": {},
   "source": [
    "## Q5. Explain how you can use the find() method to query the MongoDB database. Write a simple code to demonstrate this."
   ]
  },
  {
   "cell_type": "markdown",
   "id": "2bbf2553-41f3-4acb-8030-77ee0c4960b2",
   "metadata": {},
   "source": [
    "The find() method in MongoDB is used to query the database and retrieve documents that match the specified criteria. It can be used to retrieve all documents in a collection, or to retrieve a subset of documents that meet certain conditions.\n",
    "\n",
    "The find() method takes a query object as its parameter, which specifies the search criteria. This query object can contain one or more key-value pairs, with each key representing a field in the document, and the value representing the value that the field must match."
   ]
  },
  {
   "cell_type": "code",
   "execution_count": null,
   "id": "29a46f0e-2310-4248-b743-0995d60e006b",
   "metadata": {},
   "outputs": [],
   "source": [
    "\n",
    "import pymongo\n",
    "\n",
    "# Connect to MongoDB\n",
    "client = pymongo.MongoClient(\"mongodb://localhost:27017/\")\n",
    "\n",
    "# Select the database and collection\n",
    "mydb = client[\"mydatabase\"]\n",
    "mycol = mydb[\"customers\"]\n",
    "\n",
    "# Find all documents in the collection\n",
    "for x in mycol.find():\n",
    "  print(x)\n",
    "\n",
    "# Find documents that match a specific query\n",
    "myquery = { \"address\": \"27/29, bengaluru\" }\n",
    "mydocs = mycol.find(myquery)\n",
    "\n",
    "for x in mydocs:\n",
    "  print(x)\n"
   ]
  },
  {
   "cell_type": "markdown",
   "id": "7d8f140f-fd39-46d0-b253-1db0f5f3f4f6",
   "metadata": {},
   "source": [
    "## Q6. Explain the sort() method. Give an example to demonstrate sorting in MongoDB."
   ]
  },
  {
   "cell_type": "markdown",
   "id": "bc5890dd-9142-42e8-8b47-4a99034eeb03",
   "metadata": {},
   "source": [
    "The sort() method in MongoDB is used to sort the results of a query in ascending or descending order based on one or more fields in the document.\n",
    "\n",
    "The sort() method takes a single parameter, which is an object that specifies the field or fields to sort on and the direction of the sort (ascending or descending). If the value of a field is an array, the sort compares the first element of the array."
   ]
  },
  {
   "cell_type": "code",
   "execution_count": null,
   "id": "bfaa99f7-4d55-466f-b45c-80dd8240c1ec",
   "metadata": {},
   "outputs": [],
   "source": [
    "Example\n",
    "\n",
    "\n",
    "import pymongo\n",
    "\n",
    "# Connect to MongoDB\n",
    "client = pymongo.MongoClient(\"mongodb://localhost:27017/\")\n",
    "\n",
    "# Select the database and collection\n",
    "mydb = client[\"mydatabase\"]\n",
    "mycol = mydb[\"customers\"]\n",
    "\n",
    "# Sort the results in ascending order by name\n",
    "mydocs = mycol.find().sort(\"name\")\n",
    "\n",
    "for x in mydocs:\n",
    "  print(x)\n",
    "\n",
    "# Sort the results in descending order by address\n",
    "mydocs = mycol.find().sort(\"address\", -1)\n",
    "\n",
    "for x in mydocs:\n",
    "  print(x)\n"
   ]
  },
  {
   "cell_type": "markdown",
   "id": "ec975fc1-31a0-44e8-9010-0b9cd72c240d",
   "metadata": {},
   "source": [
    "## Q7. Explain why delete_one(), delete_many(), and drop() is used."
   ]
  },
  {
   "cell_type": "markdown",
   "id": "ebfbb132-40b3-460a-af22-a98ae34a7802",
   "metadata": {},
   "source": [
    "    delete_one(): This method is used to delete a single document that matches a specified criteria. If multiple documents match the criteria, only the first one is deleted.\n",
    "\n",
    "    delete_many(): This method is used to delete all documents that match a specified criteria. If no documents match the criteria, nothing is deleted.\n",
    "\n",
    "    drop(): This method is used to delete an entire collection, along with all of its documents and indexes."
   ]
  },
  {
   "cell_type": "markdown",
   "id": "c5b3398b-6619-4241-bdf1-2c0c4bd10b8d",
   "metadata": {},
   "source": [
    " delete_one() and delete_many() are used when you need to delete specific documents from a collection based on some criteria. For example, you might use these methods to delete all documents where the value of a specific field is less than a certain threshold."
   ]
  },
  {
   "cell_type": "markdown",
   "id": "9b14240e-8b35-41c3-bf66-9407f5dfcf64",
   "metadata": {},
   "source": [
    ", drop() is used when you want to completely remove a collection, and all of its contents, from the database. This method is often used when a collection is no longer needed, or when you want to start fresh with a new collection."
   ]
  },
  {
   "cell_type": "code",
   "execution_count": null,
   "id": "5ee1c6aa-d5c8-432b-92c6-fd00011a5c5d",
   "metadata": {},
   "outputs": [],
   "source": []
  }
 ],
 "metadata": {
  "kernelspec": {
   "display_name": "Python 3 (ipykernel)",
   "language": "python",
   "name": "python3"
  },
  "language_info": {
   "codemirror_mode": {
    "name": "ipython",
    "version": 3
   },
   "file_extension": ".py",
   "mimetype": "text/x-python",
   "name": "python",
   "nbconvert_exporter": "python",
   "pygments_lexer": "ipython3",
   "version": "3.10.8"
  }
 },
 "nbformat": 4,
 "nbformat_minor": 5
}
