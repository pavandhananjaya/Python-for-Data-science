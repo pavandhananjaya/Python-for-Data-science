{
 "cells": [
  {
   "cell_type": "markdown",
   "id": "8cb86a69-fa64-4824-904a-27bcf89146a6",
   "metadata": {},
   "source": [
    "## Q1. What is Statistics?"
   ]
  },
  {
   "cell_type": "markdown",
   "id": "c65f1807-94ec-412d-ae34-f93a92523561",
   "metadata": {},
   "source": [
    "#### ans : statis is collection, organising,Analysing , interprtation and presenting of numerical data"
   ]
  },
  {
   "cell_type": "markdown",
   "id": "4da46ebe-9e9a-4e6b-9df7-5c6615d183c1",
   "metadata": {},
   "source": [
    "## Q2. Define the different types of statistics and give an example of when each type might be used."
   ]
  },
  {
   "cell_type": "markdown",
   "id": "4668dd61-f3fe-4a7c-95ee-793011fb20d4",
   "metadata": {},
   "source": [
    "ans: \n",
    "## Descriptive Statistics:\n",
    "      Descriptive statistics are used to summarize and describe the characteristics of a set of data. It includes measures like mean, median, mode,     range, variance, standard deviation, etc. Descriptive statistics are used to organize and present the data in a way that makes it easier to understand. Examples of when descriptive statistics might be used include:\n",
    "\n",
    "    Example :1)  To summarize the ages of students in a classroom by computing the mean, median, and mode.\n",
    "                2) calculate the average rainfall in a city over the past month.\n",
    "                3) determine the range of salaries for employees in a company.\n",
    "\n",
    "## Inferential Statistics:\n",
    "    Inferential statistics are used to draw conclusions or make predictions about a population based on a sample of data. It includes hypothesis testing, regression analysis, and confidence intervals. Inferential statistics are used when it is not feasible or practical to collect data from the entire population. Examples of when inferential statistics might be used include:\n",
    "\n",
    "    Example: \n",
    "      1)to determine if there is a significant difference between the mean test scores of two different groups of students.\n",
    "      2)To predict the sales of a new product based on the sales data of a similar product in the past.\n",
    "      3)To estimate the proportion of people in a city who support a particular political candidate based on a survey of a sample of the population.\n",
    "\n"
   ]
  },
  {
   "cell_type": "markdown",
   "id": "5c36049b-6815-4e6f-b5a8-825945db7211",
   "metadata": {},
   "source": [
    "## Q3. What are the different types of data and how do they differ from each other? Provide an example of each type of data."
   ]
  },
  {
   "cell_type": "markdown",
   "id": "0812703b-0c3d-4d9e-a68d-7b624e6c5091",
   "metadata": {},
   "source": [
    "ans:\n",
    "##  Quantitative Data:\n",
    "    Quantitative data is numerical data that can be measured or counted. It can be further divided into two subtypes: discrete data and continuous data.\n",
    "\n",
    "    Discrete data is data that can only take on specific values and cannot be divided into smaller units. For example, the number of siblings someone has or the number of cars in a parking lot.\n",
    "    Continuous data is data that can take on any value within a certain range. \n",
    "    \n",
    "    example:\n",
    "    \n",
    "    someone's height or weight or the amount of rainfall in a city.\n",
    "\n",
    "  ##  Qualitative Data:\n",
    "    Qualitative data is non-numerical data that cannot be measured or counted. It can be further divided into two subtypes: nominal data and ordinal data.\n",
    "\n",
    "    Nominal data is data that is categorized based on a descriptive name or label. For example, someone's gender or their favorite color.\n",
    "    Ordinal data is data that can be ranked or ordered based on some criteria. For example, a rating scale for a product or someone's level of education.\n",
    "\n",
    "    Examples:\n",
    "\n",
    "    Discrete data: The number of students in a class.\n",
    "    Continuous data: The temperature of a room.\n",
    "    Nominal data: The color of a car.\n",
    "    Ordinal data: The rankings of athletes in a race."
   ]
  },
  {
   "cell_type": "markdown",
   "id": "8315f008-6d83-422c-a85f-964cd4829fe5",
   "metadata": {},
   "source": [
    "## Q4. Categorise the following datasets with respect to quantitative and qualitative data types:\n",
    "#### (i) Grading in exam: A+, A, B+, B, C+, C, D, E\n",
    "#### (ii) Colour of mangoes: yellow, green, orange, red\n",
    "#### (iii) Height data of a class: [178.9, 179, 179.5, 176, 177.2, 178.3, 175.8,...]\n",
    "#### (iv) Number of mangoes exported by a farm: [500, 600, 478, 672, ...]"
   ]
  },
  {
   "cell_type": "markdown",
   "id": "c5a35383-cb06-4cac-9695-686971ca5ac5",
   "metadata": {},
   "source": [
    "ans: \n",
    "\n",
    "(i) Grading in exam: Qualitative data (Ordinal)\n",
    "\n",
    "(ii) Colour of mangoes: Qualitative data (Nominal)\n",
    "\n",
    "(iii) Height data of a class: Quantitative data (Continuous)\n",
    "\n",
    "(iv) Number of mangoes exported by a farm: Quantitative data (Discrete)"
   ]
  },
  {
   "cell_type": "markdown",
   "id": "c753c714-d1d6-4c89-b1a3-ba277a56eae0",
   "metadata": {},
   "source": [
    "## Q5. Explain the concept of levels of measurement and give an example of a variable for each level."
   ]
  },
  {
   "cell_type": "markdown",
   "id": "58dd6682-9840-4c26-bb4a-3ba9a164ee6d",
   "metadata": {},
   "source": [
    "ans : \n",
    "\n",
    "Levels of measurement, also known as scales of measurement, refer to the different ways in which data can be measured and classified. There are four levels of measurement: nominal, ordinal, interval, and ratio.\n",
    "\n",
    "  ##   Nominal level of measurement:\n",
    "    Nominal data is used to categorize or classify data into distinct groups based on a name, label, or characteristic. The data cannot be ordered or ranked. Examples of nominal data include:\n",
    "\n",
    "  #### Example :\n",
    "    Eye color (e.g., brown, blue, green)\n",
    "    Types of fruit (e.g., apple, banana, orange)\n",
    "    Gender (e.g., male, female, non-binary)\n",
    "\n",
    "  ##  Ordinal level of measurement:\n",
    "    Ordinal data can be ranked or ordered, but the differences between the values cannot be determined. Examples of ordinal data include:\n",
    "\n",
    "  #### Example :\n",
    "    Educational level (e.g., elementary, middle, high school, college)\n",
    "    Levels of agreement (e.g., strongly agree, agree, neutral, disagree, strongly disagree)\n",
    "    Ranks in a competition (e.g., first, second, third)\n",
    "\n",
    "  ##  Interval level of measurement:\n",
    "    Interval data can be ranked, and the differences between the values can be determined, but there is no true zero point. Examples of interval data include:\n",
    "\n",
    "  #### Example :\n",
    "    Temperature in degrees Celsius or Fahrenheit\n",
    "    IQ scores\n",
    "    Years (e.g., 1990, 2000, 2010)\n",
    "\n",
    "  ##  Ratio level of measurement:\n",
    "    Ratio data can be ranked, and the differences between the values can be determined, and there is a true zero point. Examples of ratio data include:\n",
    "\n",
    "  #### Example :\n",
    "    Height\n",
    "    Weight\n",
    "    Distance\n",
    "\n",
    "\n",
    "Example:\n",
    "Nominal data: Types of transportation (e.g., car, bus, train, bicycle)\n",
    "\n",
    "Ordinal data: Satisfaction levels (e.g., very dissatisfied, dissatisfied, neutral, satisfied, very satisfied)\n",
    "\n",
    "Interval data: Temperature in Celsius (e.g., 20°C, 25°C, 30°C)\n",
    "\n",
    "Ratio data: Height (e.g., 160 cm, 175 cm, 190 cm)"
   ]
  },
  {
   "cell_type": "markdown",
   "id": "3c99386d-1c97-41cc-b8e0-f2bb9145c803",
   "metadata": {},
   "source": [
    "## Q6. Why is it important to understand the level of measurement when analyzing data? Provide an example to illustrate your answer."
   ]
  },
  {
   "cell_type": "markdown",
   "id": "38e15dd0-2488-4844-9eef-9af70963c689",
   "metadata": {},
   "source": [
    "ans:\n",
    "\n",
    "Understanding the level of measurement is important when analyzing data because it determines which statistical tests and analyses can be used, and how the data can be summarized and interpreted. Each level of measurement has its own set of rules and limitations, and applying the wrong analysis to a dataset can lead to inaccurate or misleading results.\n",
    "\n",
    "For example, if we have a dataset that consists of nominal data, such as the types of fruits sold in a store (apples, bananas, oranges), we cannot calculate the mean or median, as these calculations require numerical data. Instead, we can only calculate the mode or percentage of each type of fruit sold.\n",
    "\n",
    "On the other hand, if we have a dataset that consists of ratio data, such as the heights of students in a class, we can calculate the mean, median, mode, range, and standard deviation, as well as perform more advanced statistical analyses, such as regression analysis or hypothesis testing."
   ]
  },
  {
   "cell_type": "markdown",
   "id": "132abc20-469d-49e3-a6e8-cd6d3136968a",
   "metadata": {},
   "source": [
    "## Q7. How nominal data type is different from ordinal data type.\n"
   ]
  },
  {
   "cell_type": "markdown",
   "id": "55e8d8c0-45c3-4f99-8f6b-21cbfbf5408b",
   "metadata": {},
   "source": [
    "ans:\n",
    "    \n",
    "    Nominal data and ordinal data are both types of qualitative data, but they differ in the level of measurement and the type of information they provide.\n",
    "\n",
    "## Nominal data\n",
    "\n",
    "A type of qualitative data that represents variables that have no inherent order or ranking. Nominal data simply classify or categorize data into distinct groups based on a name, label, or characteristic. Examples of nominal data include eye color, types of fruit, gender, and types of cars. Nominal data cannot be ordered or ranked, and mathematical operations cannot be performed on it.\n",
    "\n",
    "## ordinal data\n",
    "\n",
    "A type of qualitative data that represents variables that can be ranked or ordered, but the differences between the values cannot be determined. Ordinal data provides a natural ordering of the data, which may be based on preferences or ratings. Examples of ordinal data include educational level, levels of agreement, and ranks in a competition. Ordinal data can be ordered or ranked, but the differences between the categories are not necessarily equal."
   ]
  },
  {
   "cell_type": "markdown",
   "id": "bfe3a032-c244-4625-ac4b-5d2fc36a66ee",
   "metadata": {},
   "source": [
    "## Q8. Which type of plot can be used to display data in terms of range?"
   ]
  },
  {
   "cell_type": "markdown",
   "id": "611036a4-4a38-4ddf-819f-871f22130345",
   "metadata": {},
   "source": [
    "ans:\n",
    "    \n",
    "    A range plot is commonly used to display data in terms of range. It is a simple graph that shows the minimum and maximum values of a dataset, as well as any outliers. A range plot is often used in quality control to monitor the variability of a process or to identify any unusual observations that fall outside the normal range.\n",
    "\n",
    "    To create a range plot, we plot the minimum and maximum values of the dataset on the y-axis and the variable or category on the x-axis. The range is then represented by a line connecting the minimum and maximum values. Outliers, which are values that fall outside the normal range of the data, can be shown as points outside the range line."
   ]
  },
  {
   "cell_type": "markdown",
   "id": "3d09d269-06d0-49a7-988e-406a049b24af",
   "metadata": {},
   "source": [
    "## Q9. Describe the difference between descriptive and inferential statistics. Give an example of each type of statistics and explain how they are used."
   ]
  },
  {
   "cell_type": "markdown",
   "id": "39af1268-14fe-4788-a920-2a4df5460da0",
   "metadata": {},
   "source": [
    "ans: \n",
    "\n",
    "## Descriptive statistics\n",
    "\n",
    "Descriptive statistics are used to describe and summarize the characteristics of a dataset, such as the mean, median, mode, range, and standard deviation. These statistics provide a quantitative summary of the data, and can be used to identify patterns and trends in the data. Descriptive statistics are often used to provide a visual or numerical summary of the data, such as through the use of tables, graphs, or charts.\n",
    "\n",
    "#### example:\n",
    "\n",
    "if we want to summarize the heights of students in a class, we can calculate the mean height, the standard deviation, and create a histogram to visualize the distribution of heights.\n",
    "\n",
    "\n",
    "## Inferential statistics\n",
    "\n",
    "\n",
    "Inferential statistics, on the other hand, are used to make inferences about a population based on a sample of data. Inferential statistics use probability theory and sampling techniques to estimate population parameters, such as the mean, standard deviation, and proportion, from a sample of data. The goal of inferential statistics is to use the sample data to draw conclusions about the population as a whole.\n",
    "\n",
    "\n",
    "#### example:\n",
    "\n",
    "if we want to know whether a new drug is effective in treating a particular disease, we can conduct a randomized controlled trial with a sample of patients, and use inferential statistics to determine whether the drug has a statistically significant effect on the disease."
   ]
  },
  {
   "cell_type": "markdown",
   "id": "e20babef-248d-4e11-8b79-c9281d1ecfa0",
   "metadata": {},
   "source": [
    "## Q10. What are some common measures of central tendency and variability used in statistics? Explain how each measure can be used to describe a dataset."
   ]
  },
  {
   "cell_type": "markdown",
   "id": "5ad43337-23c8-4747-b48e-b1df68f5ef2f",
   "metadata": {},
   "source": [
    "Measures of central tendency:\n",
    "\n",
    "    Mean: The mean is the most commonly used measure of central tendency. It is the arithmetic average of a dataset, calculated by summing all the values in the dataset and dividing by the total number of values. The mean is useful for describing the typical value of a dataset, and is sensitive to outliers and extreme values.\n",
    "    Median: The median is the middle value of a dataset when it is arranged in order. It is useful for describing the central value of a dataset when the dataset has extreme values or is not normally distributed.\n",
    "    Mode: The mode is the most frequently occurring value in a dataset. It is useful for describing the most common value in a dataset.\n",
    "\n",
    "Measures of variability:\n",
    "\n",
    "    Range: The range is the difference between the maximum and minimum values in a dataset. It provides information about the spread of the dataset.\n",
    "    Variance: The variance measures how much the data values vary from the mean. It is calculated by taking the squared difference between each data value and the mean, summing these values, and dividing by the total number of values in the dataset.\n",
    "    Standard deviation: The standard deviation is the square root of the variance. It provides information about the spread of the dataset in the same units as the original data. It is more commonly used than variance, as it is easier to interpret and compare.\n",
    "\n",
    "Each of these measures of central tendency and variability provides different information about a dataset. For example, the mean is useful for describing the typical value of a dataset, while the range is useful for describing the spread of the dataset. The standard deviation is useful for describing the degree of variability in a dataset, while the median is useful for describing the central value of a dataset when the dataset has extreme values. By using multiple measures of central tendency and variability, statisticians can gain a more complete understanding of a dataset and make more informed decisions based on the data."
   ]
  },
  {
   "cell_type": "code",
   "execution_count": null,
   "id": "5727d8cb-3002-4d81-af54-36052feb2948",
   "metadata": {},
   "outputs": [],
   "source": []
  }
 ],
 "metadata": {
  "kernelspec": {
   "display_name": "Python 3 (ipykernel)",
   "language": "python",
   "name": "python3"
  },
  "language_info": {
   "codemirror_mode": {
    "name": "ipython",
    "version": 3
   },
   "file_extension": ".py",
   "mimetype": "text/x-python",
   "name": "python",
   "nbconvert_exporter": "python",
   "pygments_lexer": "ipython3",
   "version": "3.10.8"
  }
 },
 "nbformat": 4,
 "nbformat_minor": 5
}
