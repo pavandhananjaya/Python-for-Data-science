{
 "cells": [
  {
   "cell_type": "markdown",
   "id": "40ab943d-051d-4f99-80dc-483c7d882b46",
   "metadata": {},
   "source": [
    "Q1. Explain Class and Object with respect to Object-Oriented Programming. Give a suitable example.\n",
    "Answer : A Class is like an object constructor, or a \"blueprint\" for creating objects.An object is called an instance of a class and it contains data and behavior.\n",
    "\n",
    "Example:suppose Bike is a class then we can create objects like bike1 , bike2 , etc from the class"
   ]
  },
  {
   "cell_type": "code",
   "execution_count": 9,
   "id": "806f68f9-a155-4542-9045-5208b0ae6d2b",
   "metadata": {},
   "outputs": [],
   "source": [
    "class Bike():\n",
    "    def __init__(self, model,gear,release_year):\n",
    "        self.model=model\n",
    "        self.gear=gear\n",
    "        self.release_year=release_year\n",
    "    def Bike_details(self):\n",
    "        return self.model,self.gear,self.release_year"
   ]
  },
  {
   "cell_type": "code",
   "execution_count": 2,
   "id": "f6ccfd9f-5d30-41be-ab14-8a3458320d91",
   "metadata": {},
   "outputs": [],
   "source": [
    "bike1=Bike(\"pulsar\",\"yes\",2010)"
   ]
  },
  {
   "cell_type": "code",
   "execution_count": 3,
   "id": "c4fcaeff-6e5d-41c7-9d47-3d4e14712e73",
   "metadata": {},
   "outputs": [
    {
     "data": {
      "text/plain": [
       "'pulsar'"
      ]
     },
     "execution_count": 3,
     "metadata": {},
     "output_type": "execute_result"
    }
   ],
   "source": [
    "bike1.model"
   ]
  },
  {
   "cell_type": "code",
   "execution_count": 4,
   "id": "ab7e1ce6-9a52-48e0-8e3a-d48312e91f57",
   "metadata": {},
   "outputs": [
    {
     "data": {
      "text/plain": [
       "'yes'"
      ]
     },
     "execution_count": 4,
     "metadata": {},
     "output_type": "execute_result"
    }
   ],
   "source": [
    "bike1.gear"
   ]
  },
  {
   "cell_type": "code",
   "execution_count": 5,
   "id": "88f8177a-6297-4146-867c-28abdd9c3815",
   "metadata": {},
   "outputs": [
    {
     "data": {
      "text/plain": [
       "2010"
      ]
     },
     "execution_count": 5,
     "metadata": {},
     "output_type": "execute_result"
    }
   ],
   "source": [
    "bike1.release_year"
   ]
  },
  {
   "cell_type": "markdown",
   "id": "7c2ca031-2d9c-4190-9d49-db1ebf0b76dd",
   "metadata": {},
   "source": [
    "Q2. Name the four pillars of OOPs.\n",
    "\n",
    "Answer : When creating objects using classes, there are four(4) basic principles for writing clean and concise code. These principles are called the four pillars of object-oriented programming (OOP). These four pillars are Inheritance, Polymorphism, Encapsulation and Abstraction.\n",
    "\n",
    "Abstraction: The process of hiding complex implementation details and exposing only necessary information to the user.\n",
    "\n",
    "Encapsulation: The practice of combining data and functions that operate on that data within a single unit or object.\n",
    "\n",
    "Inheritance: The mechanism of acquiring properties and behaviors from an existing class, to create a new class.\n",
    "\n",
    "Polymorphism: The ability of an object to take on many forms. In Python, polymorphism allows you to write generic code that can work with objects of different types and classes."
   ]
  },
  {
   "cell_type": "markdown",
   "id": "db92851e-ca04-4095-9ecc-31b6eb96808c",
   "metadata": {},
   "source": [
    "Q3. Explain why the __init__() function is used. Give a suitable example.\n",
    "\n",
    "Answer : The __init__ method in Python is a special method that is automatically called when an object of a class is created. It is used to initialize the attributes of an object, and is also known as a constructor."
   ]
  },
  {
   "cell_type": "code",
   "execution_count": 14,
   "id": "8be012fd-83e5-44be-b037-dfe910ec787f",
   "metadata": {},
   "outputs": [],
   "source": [
    "class Student:\n",
    "    def __init__(self, name, age):\n",
    "        self.name = name\n",
    "        self.age = age\n",
    "    \n",
    "    def greeting(self):\n",
    "        print(\"Hello, my name is\", self.name)"
   ]
  },
  {
   "cell_type": "code",
   "execution_count": 15,
   "id": "23cb1834-2c4d-46ee-af1d-94b0c1bce4d8",
   "metadata": {},
   "outputs": [
    {
     "name": "stdout",
     "output_type": "stream",
     "text": [
      "Jayasree\n",
      "27\n",
      "Hello, my name is Jayasree\n"
     ]
    }
   ],
   "source": [
    "s1 = Student(\"Jayasree\", 27)\n",
    "print(s1.name) \n",
    "print(s1.age) \n",
    "s1.greeting() "
   ]
  },
  {
   "cell_type": "markdown",
   "id": "71591808-e6e9-4638-a0f6-44800db64610",
   "metadata": {},
   "source": [
    "Q4. Why self is used in OOPs?\n",
    "\n",
    "Answer: In Python, the keyword \"self\" is used as a reference to the instance of the class within a method. It is used to access the attributes and methods of the class within the method."
   ]
  },
  {
   "cell_type": "code",
   "execution_count": null,
   "id": "6e706adc-3070-4251-9889-aa93951121af",
   "metadata": {},
   "outputs": [],
   "source": []
  },
  {
   "cell_type": "markdown",
   "id": "b0fa3a22-978d-4161-b101-b0b9456001e9",
   "metadata": {},
   "source": [
    "Q5. What is inheritance? Give an example for each type of inheritance.\n",
    "\n",
    "Answer: Inheritance is a process of obtaining properties and characteristics(variables and methods) of another class. In this hierarchical order, the class which inherits another class is called subclass or child class, and the other class is the parent class.\n",
    "\n",
    "In Python, there are 3 types of inheritance:\n",
    "\n",
    "Single inheritance: When a class inherits properties and behaviors from a single parent class, it is known as single inheritance.\n",
    "\n",
    "Multiple Inheritance: A derived class inherits from multiple base classes.\n",
    "\n",
    "Multi-level Inheritance: A derived class inherits from a base class, which itself inherits from another base class."
   ]
  },
  {
   "cell_type": "code",
   "execution_count": null,
   "id": "6fdd903b-43a4-4e41-8cb4-2e90e7b01678",
   "metadata": {},
   "outputs": [],
   "source": []
  },
  {
   "cell_type": "code",
   "execution_count": null,
   "id": "a0d95bd6-e8f9-4f80-9d3d-abb8a967dddb",
   "metadata": {},
   "outputs": [],
   "source": []
  },
  {
   "cell_type": "code",
   "execution_count": null,
   "id": "08965c6e-9ec5-4c6d-a5e8-e6121a6ce61e",
   "metadata": {},
   "outputs": [],
   "source": []
  },
  {
   "cell_type": "code",
   "execution_count": null,
   "id": "2ce4eac5-3589-4ed2-93b0-4164588141c3",
   "metadata": {},
   "outputs": [],
   "source": []
  },
  {
   "cell_type": "code",
   "execution_count": null,
   "id": "a1c77dec-3a58-426b-9a8d-5a739c61b7bc",
   "metadata": {},
   "outputs": [],
   "source": []
  }
 ],
 "metadata": {
  "kernelspec": {
   "display_name": "Python 3 (ipykernel)",
   "language": "python",
   "name": "python3"
  },
  "language_info": {
   "codemirror_mode": {
    "name": "ipython",
    "version": 3
   },
   "file_extension": ".py",
   "mimetype": "text/x-python",
   "name": "python",
   "nbconvert_exporter": "python",
   "pygments_lexer": "ipython3",
   "version": "3.10.8"
  }
 },
 "nbformat": 4,
 "nbformat_minor": 5
}
