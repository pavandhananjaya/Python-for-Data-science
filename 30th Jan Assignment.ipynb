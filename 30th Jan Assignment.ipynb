{
 "cells": [
  {
   "cell_type": "markdown",
   "id": "d1bfcd8c-b712-4bcb-b06a-a5a6d4894f78",
   "metadata": {},
   "source": [
    "Assignment 2"
   ]
  },
  {
   "attachments": {
    "59c2a086-2e9d-4efc-b20c-cd9fe44efb2f.png": {
     "image/png": "[encoded data removed]"
    }
   },
   "cell_type": "markdown",
   "id": "cf650a8f-22bd-4cc3-bf16-a4547ba6a5e6",
   "metadata": {},
   "source": [
    "1. Write a program to accept percentage from the user and display the grade according to the follwing criteria\n",
    "\n",
    "![image.png](attachment:59c2a086-2e9d-4efc-b20c-cd9fe44efb2f.png)"
   ]
  },
  {
   "cell_type": "code",
   "execution_count": 3,
   "id": "928b4058-24c9-4c58-94bd-29b2e6829d29",
   "metadata": {},
   "outputs": [
    {
     "name": "stdin",
     "output_type": "stream",
     "text": [
      "Enter the percentage: 59\n"
     ]
    },
    {
     "name": "stdout",
     "output_type": "stream",
     "text": [
      "Grade=D\n"
     ]
    }
   ],
   "source": [
    "percentage=int(input(\"Enter the percentage:\"))\n",
    "if(percentage>90):\n",
    "    print(\"Grade=A\")\n",
    "elif(percentage>80 and percentage<=90):\n",
    "    print(\"Grade=B\")\n",
    "elif(percentage>=60 and percentage<=80): \n",
    "    print(\"Grade=C\")\n",
    "else:\n",
    "    print(\"Grade=D\")"
   ]
  },
  {
   "attachments": {
    "5ebc38d4-94e6-4415-b39d-518dc8028811.png": {
     "image/png": "[encoded data removed]"
    }
   },
   "cell_type": "markdown",
   "id": "82cce6b1-d47d-4cba-bd56-5d0278e9847f",
   "metadata": {},
   "source": [
    "2. Write a program to accept the cost price of a bike and display the road tax to be paid according to the following criteria.\n",
    "\n",
    "![image.png](attachment:5ebc38d4-94e6-4415-b39d-518dc8028811.png)\n"
   ]
  },
  {
   "cell_type": "code",
   "execution_count": 5,
   "id": "ef655b3e-68e5-4d19-bc02-2af828d7692a",
   "metadata": {},
   "outputs": [
    {
     "name": "stdin",
     "output_type": "stream",
     "text": [
      "Enter the cost of bike: 10000000\n"
     ]
    },
    {
     "name": "stdout",
     "output_type": "stream",
     "text": [
      "Road tax to be paid is: 1500000.0\n"
     ]
    }
   ],
   "source": [
    "cost_of_bike=int(input(\"Enter the cost of bike:\"))\n",
    "if(cost_of_bike>1000000):\n",
    "    print(\"Road tax to be paid is:\",cost_of_bike*0.15)\n",
    "elif(cost_of_bike>50000 and cost_of_bike<=1000000):\n",
    "    print(\"Road tax to be paid is:\",cost_of_bike*0.10)\n",
    "elif(cost_of_bike<=50000): \n",
    "    print(\"Road tax to be paid is:\",cost_of_bike*0.05)"
   ]
  },
  {
   "attachments": {
    "19803104-1edb-4a2c-948d-b2edead48cdd.png": {
     "image/png": "[encoded data removed]"
    }
   },
   "cell_type": "markdown",
   "id": "f4c18b55-9668-4fa9-adf4-4e874763d738",
   "metadata": {},
   "source": [
    "3. Accept any city from the user and display the monuments of that city.\n",
    "\n",
    "![image.png](attachment:19803104-1edb-4a2c-948d-b2edead48cdd.png)"
   ]
  },
  {
   "cell_type": "code",
   "execution_count": 9,
   "id": "022ecbf7-d7c1-4cf6-aad8-7a56dab54f75",
   "metadata": {},
   "outputs": [
    {
     "name": "stdin",
     "output_type": "stream",
     "text": [
      "Enter the city: Jaipur\n"
     ]
    },
    {
     "name": "stdout",
     "output_type": "stream",
     "text": [
      "Monument of the Jaipur is Jal Mahal\n"
     ]
    }
   ],
   "source": [
    "city=input(\"Enter the city:\")\n",
    "if(city=='Delhi' or city=='delhi'):\n",
    "    print(f\"Monument of the {city} is Red Fort\")\n",
    "elif(city=='Agra' or city=='agra'):\n",
    "    print(f\"Monument of the {city} is Taj Mahal\")\n",
    "elif(city=='Jaipur' or city=='jaipur'):\n",
    "    print(f\"Monument of the {city} is Jal Mahal\")  \n",
    "else:\n",
    "    print(f\"Monument details are not available for the {city} you entered\")"
   ]
  },
  {
   "cell_type": "code",
   "execution_count": null,
   "id": "002905e0-d31a-4e18-80e2-ef981fed3199",
   "metadata": {},
   "outputs": [],
   "source": []
  },
  {
   "cell_type": "markdown",
   "id": "3708558f-ed9c-4119-b5d4-cbdf76ab9046",
   "metadata": {},
   "source": [
    "4. Check how many times a given number is divided by 3 before it is less than or equal to 10"
   ]
  },
  {
   "cell_type": "code",
   "execution_count": 15,
   "id": "44f6a81a-746d-454e-b595-c16daf2aaf6e",
   "metadata": {},
   "outputs": [
    {
     "name": "stdin",
     "output_type": "stream",
     "text": [
      "Enter the number 60\n"
     ]
    },
    {
     "name": "stdout",
     "output_type": "stream",
     "text": [
      "Number of times divided by 3 is 2 times\n"
     ]
    }
   ],
   "source": [
    "number=int(input(\"Enter the number\"))\n",
    "count=0\n",
    "while number>10:\n",
    "    number=number/3\n",
    "    count=count+1\n",
    "print(f\"Number of times divided by 3 is {count} times\")    \n",
    "    \n",
    "    "
   ]
  },
  {
   "cell_type": "markdown",
   "id": "9680021f-e778-4737-a4ae-d6065f6bbeae",
   "metadata": {},
   "source": [
    "5. Why and when to use While loop in python give a detailed description with example\n",
    "Answer :  A while statement is a loop. Basically, it continues to execute the code in the while statement for however long the expression is true.\n",
    "\n",
    "Below code is example for while loop"
   ]
  },
  {
   "cell_type": "code",
   "execution_count": 3,
   "id": "2cd0377d-952f-4d51-a4ee-2a68cfd9d86f",
   "metadata": {},
   "outputs": [
    {
     "name": "stdout",
     "output_type": "stream",
     "text": [
      "1\n",
      "2\n",
      "3\n",
      "4\n",
      "5\n",
      "6\n",
      "7\n",
      "8\n",
      "9\n",
      "10\n"
     ]
    }
   ],
   "source": [
    "i=1\n",
    "while i<=10:\n",
    "    print(i)\n",
    "    i=i+1"
   ]
  },
  {
   "cell_type": "markdown",
   "id": "a4b298f9-e7bf-4880-aba5-31d6dca0e1eb",
   "metadata": {},
   "source": [
    "6. Use nested while loop to print 3 different patterns"
   ]
  },
  {
   "cell_type": "code",
   "execution_count": 6,
   "id": "98f62d5e-86e6-4233-bda0-1c2baf8a9ab3",
   "metadata": {},
   "outputs": [
    {
     "name": "stdout",
     "output_type": "stream",
     "text": [
      "0 1 2 3 4 5 6 7 8 9 10 \n",
      "0 2 4 6 8 10 12 14 16 18 20 \n",
      "0 3 6 9 12 15 18 21 24 27 30 \n",
      "0 4 8 12 16 20 24 28 32 36 40 \n"
     ]
    }
   ],
   "source": [
    "#1 to 4 Table\n",
    "i = 1\n",
    "while i <= 4 :\n",
    "    j = 0\n",
    "    while  j <= 10 :\n",
    "        print(i*j, end=\" \")\n",
    "        j += 1\n",
    "    print()\n",
    "    i += 1"
   ]
  },
  {
   "cell_type": "markdown",
   "id": "805f8676-c0da-42c0-994d-c3774a035269",
   "metadata": {},
   "source": [
    "7. Reverse a while loop to display numbers from 10 to 1"
   ]
  },
  {
   "cell_type": "code",
   "execution_count": 8,
   "id": "122f958d-2974-49d2-b3e6-be609be1fcc9",
   "metadata": {},
   "outputs": [
    {
     "name": "stdout",
     "output_type": "stream",
     "text": [
      "10\n",
      "9\n",
      "8\n",
      "7\n",
      "6\n",
      "5\n",
      "4\n",
      "3\n",
      "2\n",
      "1\n"
     ]
    }
   ],
   "source": [
    "i = 10\n",
    "while i > 0:\n",
    "    print(i)\n",
    "    i = i - 1"
   ]
  },
  {
   "cell_type": "markdown",
   "id": "c46c35a5-e4ba-4ed3-a269-9d73075d261a",
   "metadata": {},
   "source": [
    "8. Reverse a while loop to display numbers from 10 to 1"
   ]
  },
  {
   "cell_type": "code",
   "execution_count": 9,
   "id": "655c5d39-a229-420c-933e-62a9245927e8",
   "metadata": {},
   "outputs": [
    {
     "name": "stdout",
     "output_type": "stream",
     "text": [
      "10\n",
      "9\n",
      "8\n",
      "7\n",
      "6\n",
      "5\n",
      "4\n",
      "3\n",
      "2\n",
      "1\n"
     ]
    }
   ],
   "source": [
    "i = 10\n",
    "while i > 0:\n",
    "    print(i)\n",
    "    i = i - 1"
   ]
  },
  {
   "cell_type": "code",
   "execution_count": null,
   "id": "5b84dc55-f972-4e6e-bda2-0760bb2bed8d",
   "metadata": {},
   "outputs": [],
   "source": []
  },
  {
   "cell_type": "code",
   "execution_count": null,
   "id": "2c3b2939-2a4c-4780-92d9-3f0872ab3c8f",
   "metadata": {},
   "outputs": [],
   "source": []
  }
 ],
 "metadata": {
  "kernelspec": {
   "display_name": "Python 3 (ipykernel)",
   "language": "python",
   "name": "python3"
  },
  "language_info": {
   "codemirror_mode": {
    "name": "ipython",
    "version": 3
   },
   "file_extension": ".py",
   "mimetype": "text/x-python",
   "name": "python",
   "nbconvert_exporter": "python",
   "pygments_lexer": "ipython3",
   "version": "3.10.8"
  }
 },
 "nbformat": 4,
 "nbformat_minor": 5
}
