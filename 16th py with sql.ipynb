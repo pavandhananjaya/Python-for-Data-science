{
 "cells": [
  {
   "cell_type": "markdown",
   "id": "885ff861-331a-4ad2-a577-a9891777c9d4",
   "metadata": {},
   "source": [
    "# Q1. What is a database? Differentiate between SQL and NoSQL databases."
   ]
  },
  {
   "cell_type": "markdown",
   "id": "8fc31050-dffc-41d1-ae7a-b3e5b67a77be",
   "metadata": {},
   "source": [
    "A database is a structured collection of data that is organized in a way that allows for efficient storage, retrieval, and management of that data. Databases are used to store and manage various types of data, such as customer information, financial transactions, and inventory."
   ]
  },
  {
   "cell_type": "markdown",
   "id": "74a30c8b-e9ec-494e-a568-42799eaf6998",
   "metadata": {},
   "source": [
    "### SQL databases\n",
    "\n",
    "SQL databases, also known as relational databases, are based on the relational model and use structured query language (SQL) for managing data. SQL databases store data in tables, which consist of rows and columns. Data is stored in a way that maintains the relationship between the tables. SQL databases are widely used in traditional enterprise applications and are known for their ability to handle complex transactions, data integrity, and scalability."
   ]
  },
  {
   "cell_type": "markdown",
   "id": "29cd9d30-8634-4d56-8a9c-36d305d2756d",
   "metadata": {},
   "source": [
    "### NoSQL databases\n",
    "\n",
    "NoSQL databases, on the other hand, are designed for unstructured data and do not use the traditional relational model. NoSQL databases use various data models, such as key-value, document, and graph, to store and manage data. They are more flexible than SQL databases and are better suited for handling large amounts of unstructured data. NoSQL databases are commonly used in web applications and big data analytics."
   ]
  },
  {
   "cell_type": "markdown",
   "id": "ed30c0f9-896d-4ce3-956e-eb950dc05411",
   "metadata": {},
   "source": [
    "# Q2. What is DDL? Explain why CREATE, DROP, ALTER, and TRUNCATE are used with an example."
   ]
  },
  {
   "cell_type": "markdown",
   "id": "dad96946-b2b4-4aaf-b067-f8d2c2e24d5f",
   "metadata": {},
   "source": [
    "DDL stands for Data Definition Language. It is a subset of SQL that is used to define and manage the structure of database objects, such as tables, indexes, and views. DDL commands are used to create, modify, and delete these objects in a database."
   ]
  },
  {
   "cell_type": "markdown",
   "id": "c4807cd5-6350-4d02-b1cb-b2a6cf14e20a",
   "metadata": {},
   "source": [
    "### CREATE\n",
    "\n",
    "CREATE is used to create a new database object, such as a table or view. "
   ]
  },
  {
   "cell_type": "raw",
   "id": "edfeb753-5355-4a33-a997-b1553ae93419",
   "metadata": {},
   "source": [
    "Example\n",
    "\n",
    "\n",
    "CREATE TABLE customers (\n",
    "   id INT PRIMARY KEY,\n",
    "   name VARCHAR(50),\n",
    "   email VARCHAR(50)\n",
    ");\n"
   ]
  },
  {
   "cell_type": "markdown",
   "id": "ecf1d50d-4113-4218-889b-a37c0580858d",
   "metadata": {},
   "source": [
    "### DROP\n",
    "\n",
    "DROP is used to delete an existing database object, such as a table or view. \n",
    "Example\n",
    "\n",
    "DROP TABLE customers;"
   ]
  },
  {
   "cell_type": "markdown",
   "id": "5845eea4-9b34-4f18-be46-cce98cb011b1",
   "metadata": {},
   "source": [
    "### ALTER\n",
    "\n",
    "ALTER is used to modify the structure of an existing database object, such as a table or view. \n",
    "\n",
    "Example:\n",
    "\n",
    "ALTER TABLE customers ADD COLUMN phone VARCHAR(15);\n",
    "\n"
   ]
  },
  {
   "cell_type": "markdown",
   "id": "7313d663-fc5e-4c45-85a4-82eabbff35af",
   "metadata": {},
   "source": [
    "### TRUNCATE\n",
    "\n",
    "TRUNCATE is used to delete all the data from an existing table. It is similar to the DELETE command, but it is faster because it does not log each row deletion. \n",
    "\n",
    "Example:\n",
    "\n",
    "TRUNCATE TABLE customers;\n"
   ]
  },
  {
   "cell_type": "markdown",
   "id": "d24c9b05-7b81-4b3c-b045-c0f741ace4e7",
   "metadata": {},
   "source": [
    "### Q3. What is DML? Explain INSERT, UPDATE, and DELETE with an example.\n",
    "\n"
   ]
  },
  {
   "cell_type": "raw",
   "id": "248be2a4-82a0-4840-8a15-f09ac8c3db25",
   "metadata": {},
   "source": [
    "Answer: DML stands for Data Manipulation Language, which is a subset of SQL used to manipulate the data stored in a database. DML commands are used to insert, update, and delete data from database tables.\n",
    "\n",
    "INSERT: This command is used to insert new data into a table.\n",
    "\n",
    "Example: INSERT INTO customers (name, email, phone) VALUES ('Pavan', 'Pavan@gmail.com', '123-456-7890');\n",
    "\n",
    "UPDATE: This command is used to modify existing data in a table.\n",
    "\n",
    "Example: UPDATE customers SET email ='Pavan@gmail.com' WHERE name = 'Pavan';\n",
    "\n",
    "DELETE: This command is used to delete one or more rows from a table.\n",
    "\n",
    "Example: DELETE FROM customers WHERE name = 'Pavan';"
   ]
  },
  {
   "cell_type": "markdown",
   "id": "4ddc1b1e-5664-4e2a-919b-f7883978d2a9",
   "metadata": {},
   "source": [
    "### Q4. What is DQL? Explain SELECT with an example."
   ]
  },
  {
   "cell_type": "markdown",
   "id": "dec8995d-8368-40a9-8210-c753fcb4a590",
   "metadata": {},
   "source": [
    "Answer:DQL stands for Data Query Language, which is a subset of SQL used to query or retrieve data from a database. The most commonly used DQL command is SELECT, which is used to retrieve data from one or more tables in a database.\n",
    "\n",
    "Example1: SELECT * FROM employees;\n",
    "\n",
    "Example2: SELECT name, salary FROM employees;\n",
    "\n",
    "Example3: SELECT name, salary FROM employees WHERE age > 30;"
   ]
  },
  {
   "cell_type": "markdown",
   "id": "5140a97e-c35b-4d76-b55a-fd73a54a0a2f",
   "metadata": {},
   "source": [
    "### Q5. Explain Primary Key and Foreign Key."
   ]
  },
  {
   "cell_type": "markdown",
   "id": "df892277-3b44-4dc0-be9b-1f7843ca6486",
   "metadata": {},
   "source": [
    "Answer: In a relational database, a primary key is a column or set of columns in a table that uniquely identifies each row in the table. The primary key enforces data integrity and ensures that each row in the table is unique. The primary key can be a single column or a combination of columns. The primary key is used as a reference by other tables to create relationships with the table that has the primary key.\n",
    "\n",
    "For example, suppose we have two tables: \"orders\" and \"customers\". The \"orders\" table has a column called \"order_id\", which is the primary key of the table. The \"customers\" table also has a column called \"customer_id\", which is the primary key of the table. The \"orders\" table has a column called \"customer_id\", which is a foreign key that refers to the \"customer_id\" column in the \"customers\" table. The foreign key creates a relationship between the \"orders\" and \"customers\" tables.\n",
    "\n",
    "A foreign key is a column or set of columns in a table that refers to the primary key of another table. The foreign key creates a relationship between two tables, where the foreign key table is the child table and the primary key table is the parent table. The foreign key is used to ensure data consistency between the child and parent tables.\n",
    "\n",
    "For example, in the \"orders\" and \"customers\" tables, the \"customer_id\" column in the \"orders\" table is a foreign key that refers to the \"customer_id\" column in the \"customers\" table. The foreign key ensures that the \"customer_id\" values in the \"orders\" table correspond to valid \"customer_id\" values in the \"customers\" table.\n",
    "\n",
    "In summary, a primary key is a column or set of columns that uniquely identifies each row in a table, while a foreign key is a column or set of columns in a table that refers to the primary key of another table. The primary key is used to create relationships with other tables, while the foreign key is used to ensure data consistency between related tables."
   ]
  },
  {
   "cell_type": "markdown",
   "id": "19991dba-1df4-47de-8e2b-e30d575429ee",
   "metadata": {},
   "source": [
    "### Q6. Write a python code to connect MySQL to python. Explain the cursor() and execute() method."
   ]
  },
  {
   "cell_type": "markdown",
   "id": "b03ff910-6f1d-458b-b9dc-c809a15b6417",
   "metadata": {},
   "source": [
    "Answer: The cursor() method creates a cursor object, which is used to execute SQL queries and fetch data from the database. The cursor object provides methods such as execute(), fetchone(), and fetchall() to interact with the database.\n",
    "\n",
    "The execute() method is used to execute an SQL query. The SQL query is passed as an argument to the execute() method. The execute() method returns None. After executing an SQL query, we can fetch the data using the fetchone() or fetchall() method of the cursor object. The fetchone() method returns one row at a time, while the fetchall() method returns all the rows in the result set as a list of tuples."
   ]
  },
  {
   "cell_type": "code",
   "execution_count": null,
   "id": "8293ff5b-9f5c-4c1e-910e-582cc2c9be3e",
   "metadata": {},
   "outputs": [],
   "source": [
    "import mysql.connector\n",
    "\n",
    "\n",
    "mydb = mysql.connector.connect(\n",
    "  host=\"localhost\",\n",
    "  user=\"abc\",\n",
    "  password=\"password\",\n",
    "  database=\"database\"\n",
    ")\n",
    "\n",
    "# Creating a cursor object\n",
    "mycursor = mydb.cursor()\n",
    "mycursor.execute(\"SELECT * FROM customers\")\n",
    "\n",
    "for row in mycursor.fetchall():\n",
    "    print(row)"
   ]
  },
  {
   "cell_type": "markdown",
   "id": "77d2ba14-e4b0-4fd9-937c-557a802cea16",
   "metadata": {},
   "source": [
    "### Q7. Give the order of execution of SQL clauses in an SQL query."
   ]
  },
  {
   "cell_type": "markdown",
   "id": "29a25f61-1a82-402f-b4c6-741cbc7d4a6c",
   "metadata": {},
   "source": [
    "Answer: The order of execution of SQL clauses in an SQL query is as follows:\n",
    "\n",
    "FROM - Specifies the table or tables from which to retrieve data.\n",
    "\n",
    "JOIN - Combines rows from two or more tables based on a related column between them.\n",
    "\n",
    "WHERE - Filters the rows based on a specified condition.\n",
    "\n",
    "GROUP BY - Groups the rows based on one or more columns.\n",
    "\n",
    "HAVING - Filters the groups based on a specified condition.\n",
    "\n",
    "SELECT - Selects the columns to be returned in the result set.\n",
    "\n",
    "DISTINCT - Removes duplicate rows from the result set.\n",
    "\n",
    "ORDER BY - Sorts the rows in the result set based on one or more columns.\n",
    "\n",
    "LIMIT - Limits the number of rows returned in the result set.\n",
    "\n",
    "It's important to note that not all clauses are required in every SQL query, and the order of the clauses can be changed depending on the specific query. However, in general, this is the logical order of execution for a typical SELECT statement."
   ]
  },
  {
   "cell_type": "code",
   "execution_count": null,
   "id": "9a2378ec-23b9-4eb2-950b-ab4c9640f679",
   "metadata": {},
   "outputs": [],
   "source": []
  }
 ],
 "metadata": {
  "kernelspec": {
   "display_name": "Python 3 (ipykernel)",
   "language": "python",
   "name": "python3"
  },
  "language_info": {
   "codemirror_mode": {
    "name": "ipython",
    "version": 3
   },
   "file_extension": ".py",
   "mimetype": "text/x-python",
   "name": "python",
   "nbconvert_exporter": "python",
   "pygments_lexer": "ipython3",
   "version": "3.10.8"
  }
 },
 "nbformat": 4,
 "nbformat_minor": 5
}
