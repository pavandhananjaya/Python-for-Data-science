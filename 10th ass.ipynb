{
 "cells": [
  {
   "cell_type": "markdown",
   "id": "dafe786d-cd5f-481a-a051-0e89b8ca8b14",
   "metadata": {},
   "source": [
    "## Which function is used to open a file? What are the different modes of opening a file? Explain each mode of file opening."
   ]
  },
  {
   "cell_type": "markdown",
   "id": "82f0c743-76e6-4430-a067-e24e3b62bf1d",
   "metadata": {},
   "source": [
    "Answer: The \"open()\" function is used to open a file in Python.\n",
    "\n",
    "Different modes of opening a file. 'r': This mode is used to open a file for reading. The file pointer is placed at the beginning of the file, and an error will occur if the file does not exist. This is the default mode if no mode is specified.\n",
    "\n",
    " w': This mode is used to open a file for writing. If the file already exists, its contents are truncated. If the file does not exist, a new file is created. The file pointer is placed at the beginning of the file.\n",
    "\n",
    " 'x': This mode is used to open a file for exclusive creation. If the file already exists, an error is raised.\n",
    "\n",
    "'a': This mode is used to open a file for appending. The file pointer is placed at the end of the file. If the file does not exist, a new file is created.\n",
    "\n",
    "'b': This mode is used to open a file in binary mode.\n",
    "\n",
    "'t': This mode is used to open a file in text mode. This is the default mode if no mode is specified.\n",
    "\n",
    "'+': This mode is used to open a file for updating (reading and writing)."
   ]
  },
  {
   "cell_type": "code",
   "execution_count": 29,
   "id": "df07994a-9d4f-4c0a-ab81-f802b947a062",
   "metadata": {},
   "outputs": [],
   "source": [
    "# Open file for writing\n",
    "file = open('example.txt', 'w')\n",
    "\n",
    "# Write to the file\n",
    "file.write('This is Pavan i created this file.\\n')\n",
    "\n",
    "# Close the file\n",
    "file.close()"
   ]
  },
  {
   "cell_type": "code",
   "execution_count": 30,
   "id": "d4f21715-06d8-4382-a654-7d83409098aa",
   "metadata": {},
   "outputs": [
    {
     "name": "stdout",
     "output_type": "stream",
     "text": [
      "This is Pavan i created this file.\n",
      "\n"
     ]
    }
   ],
   "source": [
    "# Open file for reading\n",
    "file = open('example.txt', 'r')\n",
    "\n",
    "# Read and print the contents of the file\n",
    "content = file.read()\n",
    "print(content)\n",
    "\n",
    "# Close the file\n",
    "file.close()"
   ]
  },
  {
   "cell_type": "markdown",
   "id": "07958531-d138-433f-a821-a41567a318a8",
   "metadata": {},
   "source": [
    "## Q2. Why close() function is used? Why is it important to close a file?"
   ]
  },
  {
   "cell_type": "markdown",
   "id": "033a3f87-418c-4e6c-86b5-705a3734af3e",
   "metadata": {},
   "source": [
    "Answer: In programming, when you open a file, you create a connection between the file and the program. This connection consumes system resources, including memory and processor time. The close() function is used to terminate this connection and release those resources.\n",
    "\n",
    "It's important to close a file after you've finished using it for several reasons:\n",
    "\n",
    "Prevent data loss: If you don't close a file after writing to it, the data may not be saved properly, leading to potential data loss.\n",
    "\n",
    "Free system resources: As mentioned earlier, an open file connection consumes system resources. Failing to close a file can lead to resource leaks, which can cause your program to slow down or even crash.\n",
    "\n",
    "Allow other programs to access the file: If you keep a file open, other programs may not be able to access it. By closing the file, you release the lock on the file, allowing other programs to access it.\n",
    "\n",
    "Ensure data integrity: When you close a file, the operating system writes any data still in the program's buffer to the file. This ensures that the file contains all the data you wrote to it and that the data is in the correct order.\n",
    "\n",
    "In summary, it's important to always close a file after you've finished using it to prevent data loss, free system resources, allow other programs to access the file, and ensure data integrity."
   ]
  },
  {
   "cell_type": "markdown",
   "id": "8a5f391b-aff8-478d-9600-8a215dc08a65",
   "metadata": {},
   "source": [
    "### Q3. Write a python program to create a text file. Write ‘I want to become a Data Scientist’ in that file. Then close the file. Open this file and read the content of the file."
   ]
  },
  {
   "cell_type": "code",
   "execution_count": 31,
   "id": "6dcc9663-47c0-4a16-bfd3-24f94467fe22",
   "metadata": {},
   "outputs": [
    {
     "name": "stdout",
     "output_type": "stream",
     "text": [
      "I want to become a Data Scientist\n"
     ]
    }
   ],
   "source": [
    "with open('data_scientist.txt', 'w') as file:\n",
    "    file.write('I want to become a Data Scientist')\n",
    "\n",
    "with open('data_scientist.txt', 'r') as file:\n",
    "    contents = file.read()\n",
    "\n",
    "print(contents)"
   ]
  },
  {
   "cell_type": "markdown",
   "id": "60ee7a1a-b7d4-453a-a75b-183f23398eef",
   "metadata": {},
   "source": [
    "### Q4. Explain the following with python code: read(), readline() and readlines()."
   ]
  },
  {
   "cell_type": "markdown",
   "id": "a7ab9ace-0b9f-40ec-9926-d05470b0c774",
   "metadata": {},
   "source": [
    "Answer: \n",
    "read(): This method reads the entire contents of the file as a single string.\n",
    "\n",
    "readline(): This method reads a single line from the file.\n",
    "\n",
    "readlines(): This method reads all the lines of the file and returns them as a list of strings."
   ]
  },
  {
   "cell_type": "code",
   "execution_count": 32,
   "id": "ed1234dd-9f69-40a0-91bf-c7cc835c7e55",
   "metadata": {},
   "outputs": [
    {
     "name": "stdout",
     "output_type": "stream",
     "text": [
      "This is Pavan i created this file.\n",
      "\n"
     ]
    }
   ],
   "source": [
    "file = open('example.txt', 'r')\n",
    "\n",
    "contents = file.read()\n",
    "\n",
    "print(contents)\n",
    "\n",
    "file.close()"
   ]
  },
  {
   "cell_type": "code",
   "execution_count": 33,
   "id": "40759941-0d51-44b9-9620-1fa9b7c4157a",
   "metadata": {},
   "outputs": [
    {
     "name": "stdout",
     "output_type": "stream",
     "text": [
      "This is Pavan i created this file.\n",
      "\n",
      "\n"
     ]
    }
   ],
   "source": [
    "file = open('example.txt', 'r')\n",
    "line1 = file.readline()\n",
    "line2 = file.readline()\n",
    "\n",
    "print(line1)\n",
    "print(line2)\n",
    "\n",
    "file.close()"
   ]
  },
  {
   "cell_type": "code",
   "execution_count": 34,
   "id": "1e9d7c87-8767-4228-a1b8-8069b24fca74",
   "metadata": {},
   "outputs": [
    {
     "name": "stdout",
     "output_type": "stream",
     "text": [
      "This is Pavan i created this file.\n",
      "\n"
     ]
    }
   ],
   "source": [
    "file = open('example.txt', 'r')\n",
    "lines = file.readlines()\n",
    "\n",
    "for line in lines:\n",
    "    print(line)\n",
    "\n",
    "file.close()"
   ]
  },
  {
   "cell_type": "markdown",
   "id": "871a6870-9ded-4426-8e3b-fe2b389d7e02",
   "metadata": {},
   "source": [
    "## Q5. Explain why with statement is used with open(). What is the advantage of using with statement and open() together?"
   ]
  },
  {
   "cell_type": "markdown",
   "id": "0f012543-041f-43a1-b51c-ace9f2e7b1ff",
   "metadata": {},
   "source": [
    "Answer: The open() function is used to open files in Python, but it does not automatically close the file when the program is finished using it. If a file is not closed properly, it can cause errors or even data corruption. That's where the with statement comes in.\n",
    "\n",
    "The with statement can be used with the open() function to ensure that the file is automatically closed when the block of code is finished executing. This eliminates the need to call file.close() explicitly and helps prevent errors and data corruption."
   ]
  },
  {
   "cell_type": "code",
   "execution_count": 37,
   "id": "ff2c8eb0-5177-4ef1-9f15-27e862b2a913",
   "metadata": {},
   "outputs": [],
   "source": [
    "with open('example.txt', 'r') as file:\n",
    "    contents = file.read()\n",
    "# The file is automatically closed after the with block is executed"
   ]
  },
  {
   "cell_type": "markdown",
   "id": "04ab9117-0d60-4272-8072-3da9d9a9b7d6",
   "metadata": {},
   "source": [
    "## Q6. Explain the write() and writelines() functions. Give a suitable example."
   ]
  },
  {
   "cell_type": "markdown",
   "id": "9d590134-4067-4a74-8223-722e2adeaa42",
   "metadata": {},
   "source": [
    "Answer: write(): This method is used to write a string to a file.\n",
    "\n",
    "writelines(): This method is used to write a list of strings to a file.\n",
    "\n",
    "The advantage of using these functions is that they allow you to write data to a file in a simple and efficient way. The write() function is useful for writing individual strings to a file, while the writelines() function is useful for writing lists of strings. Together, they provide powerful and flexible functionality for writing data to files in Python."
   ]
  },
  {
   "cell_type": "code",
   "execution_count": 38,
   "id": "3ef08d66-a4c0-4ac7-9b52-fe164b12f146",
   "metadata": {},
   "outputs": [],
   "source": [
    "file = open('example.txt', 'w')\n",
    "file.write('Hello, World! This is Pavan i created this file.')\n",
    "file.close()"
   ]
  },
  {
   "cell_type": "code",
   "execution_count": 39,
   "id": "77dad263-5da1-4a52-a37c-b4051bc7a1e5",
   "metadata": {},
   "outputs": [],
   "source": [
    "file = open('example.txt', 'w')\n",
    "\n",
    "lines = ['I want to become a data scientist.\\n', 'I love Python programming.\\n']\n",
    "file.writelines(lines)\n",
    "file.close()"
   ]
  },
  {
   "cell_type": "code",
   "execution_count": null,
   "id": "2160da81-b206-4196-a89a-39e12866240d",
   "metadata": {},
   "outputs": [],
   "source": []
  }
 ],
 "metadata": {
  "kernelspec": {
   "display_name": "Python 3 (ipykernel)",
   "language": "python",
   "name": "python3"
  },
  "language_info": {
   "codemirror_mode": {
    "name": "ipython",
    "version": 3
   },
   "file_extension": ".py",
   "mimetype": "text/x-python",
   "name": "python",
   "nbconvert_exporter": "python",
   "pygments_lexer": "ipython3",
   "version": "3.10.8"
  }
 },
 "nbformat": 4,
 "nbformat_minor": 5
}
